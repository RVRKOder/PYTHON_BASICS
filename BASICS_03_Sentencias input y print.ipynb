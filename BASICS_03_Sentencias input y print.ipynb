{
 "cells": [
  {
   "cell_type": "markdown",
   "metadata": {},
   "source": [
    "<center> <h1> 03.- SENTENCIAS $input$ y $print$ </h1> </center> \n",
    "\n",
    "Existen dos instrucciones en $Python$ y en todo lenguaje de programación que sirven para la interacción entre el usuario y el código, mediante estas el usuario ingresará los datos necesarios para que se ejecuten determinadas instrucciones y a su vez, se puedan obtener los resultados como salidas por pantalla toda vez que sea requerido por el usuario.\n",
    "\n",
    "<h2> INPUTS </h2> \n",
    "    \n",
    "Los $inputs$ son datos que el usuario ingresa por teclado y se pueden guardar en variables. Se puede especificar el tipo de dato a ingresar definiéndolo como $str$, $int$, $float$, $boolean$, $array$, etc. Por defecto los inputs se asignan en formato $str$. La manera de invocar es la siguiente: $input(\\:)$ \n",
    "\n",
    "Especificando el tipo de dato: $str(\\:input(\\:)\\:)$, $float(\\:input(\\:)\\:)$, $int(\\:input(\\:)\\:)$"
   ]
  },
  {
   "cell_type": "code",
   "execution_count": null,
   "metadata": {},
   "outputs": [],
   "source": [
    "# Ingresamos dos datos del tipo que se quiera, se guardan en las variables \"dt1\" y \"dt2\":\n",
    "\n",
    "dt1 = input()\n",
    "dt2 = input()"
   ]
  },
  {
   "cell_type": "code",
   "execution_count": null,
   "metadata": {},
   "outputs": [],
   "source": [
    "# Printamos el dato ingresado y con el comando \"type\" verificamos la clase a la que pertenece:\n",
    "\n",
    "print(dt1+' es del tipo:')\n",
    "type(dt1)"
   ]
  },
  {
   "cell_type": "code",
   "execution_count": null,
   "metadata": {},
   "outputs": [],
   "source": [
    "# Printamos el segundo dato ingresado y con el comando \"type\" verificamos la clase a la que pertenece:\n",
    "\n",
    "print(dt2+' es del tipo:')\n",
    "type(dt2)"
   ]
  },
  {
   "cell_type": "code",
   "execution_count": null,
   "metadata": {},
   "outputs": [],
   "source": [
    "# Se observa que \"dt1\" a pesar de ser un número del tipo \"float\" el input le asigna la clase \"string\", recordemos\n",
    "# que se debe especificar la clase a la que va a pertenecer la variable. Ahora ingresaremos una variable y le \n",
    "# asignaremos la clase float:\n",
    "\n",
    "dt3 = float(input('Introduce un valor decimal o entero: '))\n",
    "print(dt3)\n",
    "type(dt3)"
   ]
  },
  {
   "cell_type": "code",
   "execution_count": null,
   "metadata": {},
   "outputs": [],
   "source": [
    "# Ingresar un valor por teclado y asignarlo a una variable\n",
    "\n",
    "saludo = input('Escribe el saludo que quieres recibir: ')\n",
    "\n",
    "print(saludo)\n",
    "print(type(saludo))"
   ]
  },
  {
   "cell_type": "code",
   "execution_count": null,
   "metadata": {},
   "outputs": [],
   "source": [
    "# Ingresar cinco valores por teclado usando ciclo \"for\" y guardarlos en una lista \n",
    "\n",
    "import numpy as np\n",
    "números = []\n",
    "print('Ingresa cinco valores numéricos')\n",
    "for i in range(5):\n",
    "    números.append(float(input('Ingresa un número: ')))\n",
    "array_numeros = np.array(números)\n",
    "sumatoria = sum(array_numeros)\n",
    "print(números) \n",
    "print(array_numeros)\n",
    "print('La suma de estos números es: '+ str(sumatoria))"
   ]
  },
  {
   "cell_type": "markdown",
   "metadata": {},
   "source": [
    "<h2> SALIDAS POR PANTALLA </h2>\n",
    "\n",
    "Las salidas por pantalla se generan con la instrucción $print()$. La salida por pantalla sirve para visualizar  todo tipo de datos almacenados, generados o modificados."
   ]
  },
  {
   "cell_type": "code",
   "execution_count": null,
   "metadata": {},
   "outputs": [],
   "source": [
    "# Crear varios tipos de variables\n",
    "\n",
    "a1 = 3.1416\n",
    "a2 = 15\n",
    "b1 = np.array([a1, a2])\n",
    "b2 = sum(b1)\n",
    "\n",
    "# Para visualizar las variables creadas anteriormente debemos printarlas con \"print()\"\n",
    "\n",
    "print(a1)\n",
    "print(a2)\n",
    "print(b1)\n",
    "print(b2)\n",
    "\n",
    "# Podemos crear salidas por pantalla con el tipo de datos de las variables\n",
    "\n",
    "print(type(a1))\n",
    "print(type(a2))\n",
    "print(type(b1))\n",
    "print(type(b2))"
   ]
  },
  {
   "cell_type": "code",
   "execution_count": null,
   "metadata": {},
   "outputs": [],
   "source": [
    "# Podemos generar salidas estructuradas donde printemos las valiables generadas\n",
    "# Usando \".format()\", en esta instrucción el orden de aparición es el orden en que sale\n",
    "\n",
    "forma1 = 'Este es el valor de \"pi\" almacenado en \"a1\": {}'.format(a1)\n",
    "forma2 = 'Este es el valor de la variable \"a2\": {}'.format(a2)\n",
    "forma3 = 'El array formado con {} y {} tiene la forma: {}'.format(a1, a2, b1)\n",
    "forma4 = 'La suma de los valores del array \"b1\" es: {}'.format(b2)\n",
    "\n",
    "# Nuevo arreglo con nuevo orden de los factores\n",
    "\n",
    "forma5 = 'El array formado con {1} y {0} tiene la forma: {2}'.format(a1, a2, b1)\n",
    "\n",
    "# Printamos por pantalla las salidas estructuradas anteriores\n",
    "\n",
    "print(forma1)\n",
    "print(forma2)\n",
    "print(forma3)\n",
    "print(forma4)\n",
    "print(forma5)"
   ]
  }
 ],
 "metadata": {
  "kernelspec": {
   "display_name": "Python 3",
   "language": "python",
   "name": "python3"
  },
  "language_info": {
   "codemirror_mode": {
    "name": "ipython",
    "version": 3
   },
   "file_extension": ".py",
   "mimetype": "text/x-python",
   "name": "python",
   "nbconvert_exporter": "python",
   "pygments_lexer": "ipython3",
   "version": "3.7.3"
  }
 },
 "nbformat": 4,
 "nbformat_minor": 2
}

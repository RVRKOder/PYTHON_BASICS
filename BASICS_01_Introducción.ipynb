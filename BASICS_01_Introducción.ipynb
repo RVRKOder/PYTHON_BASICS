{
 "cells": [
  {
   "cell_type": "markdown",
   "metadata": {},
   "source": [
    "<center>  <h1> 01.- INTRODUCCIÓN: ¿QUÉ ES PYTHON? </h1> </center>\n",
    "\n",
    "Es un lenguaje de programación creado por Guido van Rossum. Es de sintaxis limpia, entendible y que favorece un código legible. Se trata de un lenguaje interpretado o de script, con tipado dinámico, fuertemente tipado, multiplataforma y orientado a objetos.\n",
    "\n",
    "<h3> Lenguaje interpretado o de script: </h3>\n",
    "Un lenguaje interpretado o de script se ejecuta utilizando un programa intermedio llamado intérprete, en lugar de compilar el código a lenguaje máquina que pueda comprender y ejecutar directamente una computadora (lenguajes compilados).\n",
    "\n",
    "<h3> Tipado dinámico: </h3>\n",
    "Se refiere a que no es necesario declarar el tipo de dato que va a contener una determinada variable, sino que su tipo se determinará en tiempo de ejecución según el tipo del valor al que se asigne, y el tipo de esta variable puede cambiar si se le asigna un valor de otro tipo.\n",
    "\n",
    "<h3> Fuertemente tipado: </h3>\n",
    "No se permite tratar a una variable como si fuera de un tipo distinto al que tiene, es necesario convertir de forma explícita dicha variable al nuevo tipo previamente. \n",
    "\n",
    "<h3> Multiplataforma: </h3>\n",
    "El intérprete de Python está disponible en multitud de plataformas (UNIX, Solaris, Linux, DOS, Windows, OS/2, Mac OS, etc.) por lo que si no utilizamos librerías específicas de cada plataforma nuestro programa podrá correr en todos estos sistemas sin grandes cambios.\n",
    "\n",
    "<h3> Orientado a objetos: </h3>\n",
    "La orientación a objetos es un paradigma de programación en el que los conceptos del mundo real relevantes para nuestro problema se trasladan a clases y objetos en nuestro programa. La ejecución del programa consiste en una serie de interacciones entre los objetos. Python también permite la programación imperativa, programación funcional y programación orientada a aspectos.\n",
    "\n",
    "Teoría de $\"Python\\:para\\:todos\",\\:Raúl\\:Gonzalez\\:Duque.$ http://mundogeek.net/tutorial-python/"
   ]
  },
  {
   "cell_type": "markdown",
   "metadata": {},
   "source": [
    "<h2> PALABRAS RESERVADAS </h2>\n",
    "\n",
    "Antes de comenzar a escribir código en lenguaje $Python$ debemos tener en cuenta que hay ciertas palabras que están reservadas por el mismo. Las $palabras\\:reservadas$ son la forma en que el usuario se comunica con $Python$ y estas no pueden ser utilizadas como $variables$ ni como $datos$."
   ]
  },
  {
   "cell_type": "code",
   "execution_count": null,
   "metadata": {},
   "outputs": [],
   "source": [
    "# Algunas palabras clave son las siguientes:\n",
    "\n",
    "False\n",
    "True\n",
    "None\n",
    "if\n",
    "else if\n",
    "elif\n",
    "else\n",
    "for\n",
    "while\n",
    "break\n",
    "in\n",
    "and\n",
    "or\n",
    "as\n",
    "not\n",
    "return\n",
    "def\n",
    "del\n",
    "except\n",
    "from\n",
    "try\n",
    "import\n",
    "in\n",
    "continue"
   ]
  },
  {
   "cell_type": "markdown",
   "metadata": {},
   "source": [
    "<h2> INSTRUCCIONES </h2>\n",
    "\n",
    "El lenguje para comunicarse con Python (y cualquier lenguaje de programación) es mediante $instrucciones$. Las $instrucciones$ son un conjunto de $palabras\\:clave$ en combinación con $símbolos$, $datos$, $variables$, etc., las cuales se se escriben siguiendo una $secuencia$.\n",
    "\n",
    "<h2> En programación existen tres tipos de instrucciones: </h2>\n",
    "<h3> 1. Secuenciales: </h3>\n",
    "Las instrucciones de tipo secuencial son las que se realizan paso a paso, como las instrucciones de una receta de cocina. \n",
    "\"No puedes sacar el pan del horno si no has integrado los ingredientes de la masa\"\n",
    "\n",
    "<h3> 2. Repetitivas: </h3>\n",
    "Las sentencias repetitivas se ejecutan una y otra vez en función de una cantidad de veces establecida por el usuario o hasta que se cumpla cierta condición.  \n",
    "$Para$ cada uno de los invitados preparas un plato con cubiertos y servilletas.\n",
    "\n",
    "<h3> 3. Condicionales: </h3>\n",
    "Las instrucciones condicionales realizarán determinada acción dependiendo de que se cumpla o no una condición.\n",
    "$Mientras$ no se torne color dorado no puedes sacar el pan del horno.\n",
    "\n",
    "Se dedicará su explicación individual para cada tipo de instrucción."
   ]
  },
  {
   "cell_type": "code",
   "execution_count": 1,
   "metadata": {},
   "outputs": [
    {
     "name": "stdout",
     "output_type": "stream",
     "text": [
      "4\n",
      "5\n"
     ]
    }
   ],
   "source": [
    "# Instrucción 1: Asignación de un dato numérico (4) a una variable (x)\n",
    "x = 4 \n",
    "\n",
    "# Instrucción 2: Impresión de la variable \"x\"\n",
    "print(x) \n",
    "\n",
    "# Instrucción 3: Nueva asignación a la variable \"x\" con una expresión matemática\n",
    "x = x + 1 \n",
    "\n",
    "# Instrucción 4: Impresión de la nueva variable \"x\"\n",
    "print(x) "
   ]
  },
  {
   "cell_type": "markdown",
   "metadata": {},
   "source": [
    "<h2> VARIABLES </h2>\n",
    "\n",
    "Las $variable$ son $espacios\\:en\\:memoria$ en los cuales se pueden $almacenar\\:datos$, para luego ser llamados por su $nombre$ o $identidicador$. En lenguaje $Python$ la sintaxis de una variabe es la siguiente:\n",
    "\n",
    "$nombre\\:de\\:la\\:variable\\:=\\:dato\\:\\:o\\:valor\\:de\\:la\\:variable$\n",
    "\n",
    "El programador elige el nombre que mejor le convenga para identificar a la variable. Una de las ventajas de $Python$ es que los valores o estados de las variables pueden cambiar manualmente o actualizarze con la ejecución."
   ]
  },
  {
   "cell_type": "code",
   "execution_count": 1,
   "metadata": {},
   "outputs": [
    {
     "name": "stdout",
     "output_type": "stream",
     "text": [
      "15\n",
      "30\n"
     ]
    }
   ],
   "source": [
    "# Creamos dos variables con instrucciones de asignación \"=\":\n",
    "\n",
    "a = 15  # la variable \"a\" guarda el dato numérico entero \"15\"\n",
    "\n",
    "b = 2*a # la variable \"b\" guarda el doble del dato guardado en \"a\"\n",
    "\n",
    "print(a)\n",
    "print(b)"
   ]
  },
  {
   "cell_type": "code",
   "execution_count": 3,
   "metadata": {},
   "outputs": [
    {
     "name": "stdout",
     "output_type": "stream",
     "text": [
      "5\n",
      "10\n"
     ]
    }
   ],
   "source": [
    "# Cambiamos los valores de \"a\" y \"b\":\n",
    "\n",
    "a = 5\n",
    "\n",
    "b = 2*a\n",
    "\n",
    "print(a)\n",
    "print(b)"
   ]
  },
  {
   "cell_type": "markdown",
   "metadata": {},
   "source": [
    "<h2> REGLAS PARA NOMBRAR VARIABLES: </h2>\n",
    "\n",
    "En el ámbito de la programación exiten ciertas reglas ($convenciones\\:de\\:estilo$) las cuales ayudan para estandarizar y tener una forma de escritura de código entendible. Estas convenciones ($PEP-8$)se pueden encontrar en el siguiente sitio:\n",
    "\n",
    "https://peps.python.org/pep-0008/\n",
    "\n",
    "<h3> 1. Comenzar por una letra o guion bajo: </h3> \n",
    "\"spam\", \"eggs\", \"spam23\", \"\\_speed\" \n",
    "\n",
    "<h3> 2. Solo incluir letras, números o guiones: </h3> \n",
    "\"23spam\", \"#sign\" y \"var.12\" son ejemplos de mala sintaxis para nombrar variables. \n",
    "\n",
    "En python los nombres de las variables son \"$case\\:sensitive$\", se diferencían las mayúsculas de las minúsculas. Por ejemplo, las variables siguientes son diferentes: \"spam\", \"Spam\" y \"SPAM\" \n"
   ]
  },
  {
   "cell_type": "markdown",
   "metadata": {},
   "source": [
    "<h2> OPERACIONES Y ORDEN DE OPERACIÓN </h2>\n",
    "\n",
    "<h3> En python las operaciones se definen con sus símbolos:  </h3> \n",
    "\n",
    "1. Suma: $+$ \n",
    "2. Resta: $-$ \n",
    "3. Multiplicación: $*$ \n",
    "4. División: $/$ \n",
    "5. Potenciación: $**$ \n",
    "6. Módulo: $\\%$ \n",
    "\n",
    "La operación de potenciación o exponenciación tiene otras formas de realizarse con las librerías $numpy$ y $math$.\n",
    "\n",
    "<h3> Además de que las operaciones tienen un orden de ejecución:  </h3> \n",
    "\n",
    "1. Paréntesis\n",
    "2. Potencia\n",
    "3. Multiplicación, División o Residuo\n",
    "4. Suma o resta\n",
    "5. De izquierda a derecha"
   ]
  },
  {
   "cell_type": "markdown",
   "metadata": {},
   "source": [
    "<h2> DATOS PRIMITIVOS </h2>\n",
    "\n",
    "En $Python$ existen cuatro tipos de datos a los que se les conoce como $datos\\:primitivos$; pues a partir de estos se pueden crear otro tipo de variables y estructuras. Los cuatro tipos de datos primitivos son:\n",
    "\n",
    "1. El número entero $int$\n",
    "2. El número con parte decimal o de punto flotante $float$\n",
    "3. La cadena de caracteres alfanuméricos $string$\n",
    "4. Los valores booleanos o valores de verdad $True$ y $False$\n",
    "\n",
    "<h3> Números enteros y de punto flotante ($int$ y $float$): </h3>\n",
    "\n",
    "La diferencia entre los números entero y flotante es que los números enteros solo tienen la parte entera de un número, la cual puede ser positiva o negativa. Los números de punto flotante son los que contienen una parte decimal y pueden o no contener una parte entera."
   ]
  },
  {
   "cell_type": "code",
   "execution_count": 2,
   "metadata": {},
   "outputs": [],
   "source": [
    "# Creamos variables numéricas de tipo entero y de punto flotante:\n",
    "\n",
    "nep = 100 # número entero positivo \n",
    "\n",
    "nen = -100 # número entero negativo\n",
    "\n",
    "nfp = 3.1416 # número positivo de punto flotante\n",
    "\n",
    "nfn = -3.1416 # número negativo de punto flotante"
   ]
  },
  {
   "cell_type": "code",
   "execution_count": 3,
   "metadata": {},
   "outputs": [
    {
     "name": "stdout",
     "output_type": "stream",
     "text": [
      "100\n",
      "-100\n",
      "3.1416\n",
      "-3.1416\n"
     ]
    }
   ],
   "source": [
    "# Imprimimos los números creados:\n",
    "\n",
    "print(nep)\n",
    "print(nen)\n",
    "print(nfp)\n",
    "print(nfn)"
   ]
  },
  {
   "cell_type": "markdown",
   "metadata": {},
   "source": [
    "<h2> CADENA DE CARACTERES ($string$): </h2>\n",
    "\n",
    "Las cadenas de caracteres o $string$ almacenan un conjunto de caracteres alfanuméricos incluyendo el espacio vacío. Generalmente este tipo de variable se utiliza para almacenar palabras o mensajes. Los $strings$ se definen entre comillas dobles o comillas simples."
   ]
  },
  {
   "cell_type": "code",
   "execution_count": 6,
   "metadata": {},
   "outputs": [],
   "source": [
    "# Creamos dos variables de tipo string:\n",
    "\n",
    "s1 = 'String declarado entre comillas simples'\n",
    "\n",
    "s2 = \"String declarado entre comillas dobles\""
   ]
  },
  {
   "cell_type": "code",
   "execution_count": 7,
   "metadata": {},
   "outputs": [
    {
     "name": "stdout",
     "output_type": "stream",
     "text": [
      "String declarado entre comillas simples\n",
      "String declarado entre comillas dobles\n"
     ]
    }
   ],
   "source": [
    "# Imprimimos las dos variables tipo string:\n",
    "\n",
    "print(s1)\n",
    "print(s2)"
   ]
  },
  {
   "cell_type": "markdown",
   "metadata": {},
   "source": [
    "<h2> BOOLEANOS O VALORES DE VERDAD $True\\:False$: </h2>\n",
    "\n",
    "Este tipo de datos solo almacena dos estados de verdad, verdadero $True$ y falso $False$ (nótese que sus palabras reservadas deben escribirse con mayúscula al principio), además también suelen ser utilizados para representar estados de abierto y cerrado. Nótece que los valores de definen con mayúscula al principo.\n",
    "\n",
    "Adicionalmente podremos comprobar los valores de verdad de funciones o variables en función de estos valores."
   ]
  },
  {
   "cell_type": "code",
   "execution_count": 1,
   "metadata": {},
   "outputs": [],
   "source": [
    "verdadero = True\n",
    "\n",
    "falso = False"
   ]
  },
  {
   "cell_type": "code",
   "execution_count": 3,
   "metadata": {},
   "outputs": [
    {
     "data": {
      "text/plain": [
       "True"
      ]
     },
     "execution_count": 3,
     "metadata": {},
     "output_type": "execute_result"
    }
   ],
   "source": [
    "verdadero"
   ]
  },
  {
   "cell_type": "code",
   "execution_count": 4,
   "metadata": {},
   "outputs": [
    {
     "data": {
      "text/plain": [
       "False"
      ]
     },
     "execution_count": 4,
     "metadata": {},
     "output_type": "execute_result"
    }
   ],
   "source": [
    "falso"
   ]
  },
  {
   "cell_type": "code",
   "execution_count": 5,
   "metadata": {},
   "outputs": [
    {
     "data": {
      "text/plain": [
       "False"
      ]
     },
     "execution_count": 5,
     "metadata": {},
     "output_type": "execute_result"
    }
   ],
   "source": [
    "verdadero and falso"
   ]
  },
  {
   "cell_type": "code",
   "execution_count": 6,
   "metadata": {},
   "outputs": [
    {
     "data": {
      "text/plain": [
       "True"
      ]
     },
     "execution_count": 6,
     "metadata": {},
     "output_type": "execute_result"
    }
   ],
   "source": [
    "verdadero or falso"
   ]
  },
  {
   "cell_type": "markdown",
   "metadata": {},
   "source": [
    "<h2> LA FUNCIÓN    $type(\\:)$ </h2>\n",
    "\n",
    "Es una función de palabra clave reservada, que nos regresa el $tipo$ de $dato$ al que corresponda la variable que pasemos como argumento. Recordemos que la combinación de variables primitivas ($int$, $float$, $string$ y $boolean$) forma diferentes tipos de variables o estructuras de datos."
   ]
  },
  {
   "cell_type": "code",
   "execution_count": 4,
   "metadata": {},
   "outputs": [],
   "source": [
    "# SE UTILIZA LA FUNCIÓN \"type()\" PARA VERIFICAR EL TIPO DE DATO QUE CONTIENEN LAS VARIABLES:\n",
    "\n",
    "entero = 20\n",
    "flotante = 3.1416\n",
    "cadena = \"hola\"\n",
    "lista = [1,2,3.14]"
   ]
  },
  {
   "cell_type": "code",
   "execution_count": 5,
   "metadata": {},
   "outputs": [
    {
     "data": {
      "text/plain": [
       "int"
      ]
     },
     "execution_count": 5,
     "metadata": {},
     "output_type": "execute_result"
    }
   ],
   "source": [
    "type(entero)"
   ]
  },
  {
   "cell_type": "code",
   "execution_count": 6,
   "metadata": {},
   "outputs": [
    {
     "data": {
      "text/plain": [
       "float"
      ]
     },
     "execution_count": 6,
     "metadata": {},
     "output_type": "execute_result"
    }
   ],
   "source": [
    "type(flotante)"
   ]
  },
  {
   "cell_type": "code",
   "execution_count": 7,
   "metadata": {},
   "outputs": [
    {
     "data": {
      "text/plain": [
       "str"
      ]
     },
     "execution_count": 7,
     "metadata": {},
     "output_type": "execute_result"
    }
   ],
   "source": [
    "type(cadena)"
   ]
  },
  {
   "cell_type": "code",
   "execution_count": 8,
   "metadata": {},
   "outputs": [
    {
     "data": {
      "text/plain": [
       "list"
      ]
     },
     "execution_count": 8,
     "metadata": {},
     "output_type": "execute_result"
    }
   ],
   "source": [
    "type(lista)"
   ]
  },
  {
   "cell_type": "code",
   "execution_count": 9,
   "metadata": {},
   "outputs": [
    {
     "data": {
      "text/plain": [
       "int"
      ]
     },
     "execution_count": 9,
     "metadata": {},
     "output_type": "execute_result"
    }
   ],
   "source": [
    "type(lista[1])"
   ]
  },
  {
   "cell_type": "code",
   "execution_count": 10,
   "metadata": {
    "scrolled": false
   },
   "outputs": [
    {
     "data": {
      "text/plain": [
       "float"
      ]
     },
     "execution_count": 10,
     "metadata": {},
     "output_type": "execute_result"
    }
   ],
   "source": [
    "type(lista[2])"
   ]
  }
 ],
 "metadata": {
  "kernelspec": {
   "display_name": "Python 3",
   "language": "python",
   "name": "python3"
  },
  "language_info": {
   "codemirror_mode": {
    "name": "ipython",
    "version": 3
   },
   "file_extension": ".py",
   "mimetype": "text/x-python",
   "name": "python",
   "nbconvert_exporter": "python",
   "pygments_lexer": "ipython3",
   "version": "3.7.3"
  }
 },
 "nbformat": 4,
 "nbformat_minor": 2
}

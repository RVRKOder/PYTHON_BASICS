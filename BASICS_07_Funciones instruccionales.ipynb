{
 "cells": [
  {
   "cell_type": "markdown",
   "metadata": {},
   "source": [
    "<center>  <h1> 07.- FUNCIONES INSTRUCCIONALES $def$ </h1> </center>\n",
    "\n",
    "Las funciones $def$ se definen como un conjunto de instrucciones que operan a partir de ciertos argumentos de entrada. Este tipo de funciones se declaran con la instrucción $def$, seguidas de su nombre identificador, los argumentos entre paréntesis y se cierra con dos puntos \"$:$\"\n",
    "\n",
    "- $def$  $sumar$_$primos(numeros):$\n",
    "\n",
    "El funcionamiento de las mismas puede ser tan sencillo o complicado como lo defina el usuario, además de que como argumentos se pueden utilizar cualquier tipo de dato. \n",
    "\n",
    "Se requiere que la sintaxis de las instrucciones sigan ciertas relas como el cuidado de las tabulaciones, las asignaciones, crear variables globales si se requiere llamarlas fuera de las funciones."
   ]
  },
  {
   "cell_type": "code",
   "execution_count": null,
   "metadata": {},
   "outputs": [],
   "source": [
    "def funcion_prueba():\n",
    "    print('Esta es una función prueba')"
   ]
  },
  {
   "cell_type": "code",
   "execution_count": null,
   "metadata": {},
   "outputs": [],
   "source": [
    "# Llamamos la función creada para que se ejecute\n",
    "funcion_prueba()"
   ]
  },
  {
   "cell_type": "code",
   "execution_count": null,
   "metadata": {},
   "outputs": [],
   "source": [
    "# Tabla del 7 como ejemplo\n",
    "def tabla_7():\n",
    "    for i in range(11):\n",
    "        print('7 * {} = {}'.format(i, 7*i))"
   ]
  },
  {
   "cell_type": "code",
   "execution_count": null,
   "metadata": {
    "scrolled": true
   },
   "outputs": [],
   "source": [
    "# Llamamos la función para printar la tabla del 7\n",
    "tabla_7()"
   ]
  },
  {
   "cell_type": "markdown",
   "metadata": {},
   "source": [
    "<h3> Variables dentro de la función y variables globales: </h3>\n",
    "\n",
    "Las variables que se declaran dentro del cuerpo de la función no se pueden utilizar en otra parte del código, son variables exclusivas para uso de la función.\n",
    "\n",
    "Podemos usar el comando $global$ para poder usar por fuera las variables que se declararon adentro pero dichas variables no son modificables, solo se pueden usar o visualizar:"
   ]
  },
  {
   "cell_type": "code",
   "execution_count": null,
   "metadata": {},
   "outputs": [],
   "source": [
    "def advertencia1():\n",
    "    adentro = 'Esta  función contiene una variable que no se puede usar afuera'\n",
    "    print(adentro)"
   ]
  },
  {
   "cell_type": "code",
   "execution_count": null,
   "metadata": {},
   "outputs": [],
   "source": [
    "advertencia1()"
   ]
  },
  {
   "cell_type": "code",
   "execution_count": null,
   "metadata": {
    "scrolled": true
   },
   "outputs": [],
   "source": [
    "# Tratamos de usar la variable \"adentro\" que se declaró dentro de la función\n",
    "adentro"
   ]
  },
  {
   "cell_type": "code",
   "execution_count": null,
   "metadata": {},
   "outputs": [],
   "source": [
    "def advertencia2():\n",
    "    global adentro_glob\n",
    "    adentro_glob = 'Esta función contiene una variable global que se puede usar afuera, pero no modificar'"
   ]
  },
  {
   "cell_type": "code",
   "execution_count": null,
   "metadata": {},
   "outputs": [],
   "source": [
    "# Ejecutamos \"advertencia_2\"\n",
    "advertencia2()"
   ]
  },
  {
   "cell_type": "code",
   "execution_count": null,
   "metadata": {},
   "outputs": [],
   "source": [
    "# Verificamos que la variable global no se puede modificar\n",
    "#adentro_glob = 'Trataremos de modificar la variable global'\n",
    "#advertencia2()\n",
    "print(adentro_glob)"
   ]
  },
  {
   "cell_type": "code",
   "execution_count": null,
   "metadata": {},
   "outputs": [],
   "source": [
    "# Como vemos solo podemos visualizar o utilizar la variable global\n",
    "print(adentro_glob)"
   ]
  },
  {
   "cell_type": "code",
   "execution_count": null,
   "metadata": {},
   "outputs": [],
   "source": [
    "print(adentro_glob, adentro_glob)"
   ]
  },
  {
   "cell_type": "markdown",
   "metadata": {},
   "source": [
    "<h3> Instrucción $return$: </h3>\n",
    "\n",
    "La instrucción $return$ es una palabra reservada por el lenguaje con la que generalmente se retornan valores que resulten de la ejecución de la función. La instrucción $return$ debe estar tabulada."
   ]
  },
  {
   "cell_type": "code",
   "execution_count": null,
   "metadata": {},
   "outputs": [],
   "source": [
    "# Definimos una función que retorna valores con \"return\"\n",
    "def valores():\n",
    "    v1 = 3.1416\n",
    "    v2 = 1025\n",
    "    v3 = [15, 10]\n",
    "    v4 = 'Chingo de valores'\n",
    "    return v1, v2, v3, v4"
   ]
  },
  {
   "cell_type": "code",
   "execution_count": null,
   "metadata": {},
   "outputs": [],
   "source": [
    "# Se muestran los valores al llamar la función\n",
    "valores()"
   ]
  },
  {
   "cell_type": "code",
   "execution_count": null,
   "metadata": {},
   "outputs": [],
   "source": [
    "# Se muestran los valores al printar la función\n",
    "print(valores())"
   ]
  },
  {
   "cell_type": "code",
   "execution_count": null,
   "metadata": {},
   "outputs": [],
   "source": [
    "# Printamos los elementos desde la posición 2\n",
    "print(valores()[2:])"
   ]
  },
  {
   "cell_type": "code",
   "execution_count": null,
   "metadata": {},
   "outputs": [],
   "source": [
    "# Printamos desde el elemento en la posición 1\n",
    "print(valores()[1:])"
   ]
  },
  {
   "cell_type": "code",
   "execution_count": null,
   "metadata": {},
   "outputs": [],
   "source": [
    "# Printamos el elemento de la posición 3\n",
    "print(valores()[3])"
   ]
  },
  {
   "cell_type": "code",
   "execution_count": null,
   "metadata": {},
   "outputs": [],
   "source": [
    "# Podemos realizar una asignación múltiple de las salidas a variables específicas\n",
    "s1,s2,s3,s4 = valores()"
   ]
  },
  {
   "cell_type": "code",
   "execution_count": null,
   "metadata": {},
   "outputs": [],
   "source": [
    "# Printamos cada variable para verificar la asignación de sus valores\n",
    "print(s1)\n",
    "print(s2)\n",
    "print(s3)\n",
    "print(s4)"
   ]
  },
  {
   "cell_type": "markdown",
   "metadata": {},
   "source": [
    "<h3> Argumentos de entrada de una función: </h3>\n",
    "\n",
    "Los $argumentos$ de entrada de una función son los valores con los que se operan las instrucciones o sentencias y a partir de los cuales se espera obtener resultados o salidas."
   ]
  },
  {
   "cell_type": "code",
   "execution_count": null,
   "metadata": {},
   "outputs": [],
   "source": [
    "# Definimos una función a la cual podemos ejecurar ingresando los valores de entrada que queramos\n",
    "def potencia(i, x):\n",
    "    oper = i ** x\n",
    "    return oper"
   ]
  },
  {
   "cell_type": "code",
   "execution_count": null,
   "metadata": {},
   "outputs": [],
   "source": [
    "# Ejecutamos la función creada para la multiplicación \n",
    "# e ingresamos los parámetros a operar separados por coma\n",
    "potencia(3.1416, 10)"
   ]
  },
  {
   "cell_type": "code",
   "execution_count": null,
   "metadata": {},
   "outputs": [],
   "source": [
    "# Si definimos una función que opera con argumentos\n",
    "# necesitamos ingresar tantos argumentos como hayamos definido en la función\n",
    "potencia()"
   ]
  },
  {
   "cell_type": "code",
   "execution_count": null,
   "metadata": {},
   "outputs": [],
   "source": [
    "# Si conocemos el nombre de los argumentos podemos ingresarlos no importando el orden\n",
    "potencia(x=2, i=5)"
   ]
  },
  {
   "cell_type": "code",
   "execution_count": null,
   "metadata": {},
   "outputs": [],
   "source": [
    "potencia(2,5)"
   ]
  },
  {
   "cell_type": "code",
   "execution_count": null,
   "metadata": {},
   "outputs": [],
   "source": [
    "# Para eliminar el error de parámetros nulos podemos definir los argumentos \n",
    "# iguales a \"None\" (se define el caso en el que no se ingresan parámetros)\n",
    "def pa_nulos(x_1=None, x_2=None):\n",
    "    if x_1 ==None or x_2 == None:\n",
    "        print('Ingresar dos números')\n",
    "        return\n",
    "    return (x_1 + x_2) / (x_1 * x_2)"
   ]
  },
  {
   "cell_type": "code",
   "execution_count": null,
   "metadata": {},
   "outputs": [],
   "source": [
    "pa_nulos()"
   ]
  },
  {
   "cell_type": "code",
   "execution_count": null,
   "metadata": {},
   "outputs": [],
   "source": [
    "pa_nulos(3,5)"
   ]
  },
  {
   "cell_type": "markdown",
   "metadata": {},
   "source": [
    "<h3> Argumentos por valor o por referencia: </h3>\n",
    "\n",
    "Cuando declaramos por fuera una variable y la utilizamos como argumento de una finción, esa variable no se ve afectada por la ejecución de la función. Las listas en cambio si se modifican."
   ]
  },
  {
   "cell_type": "code",
   "execution_count": null,
   "metadata": {},
   "outputs": [],
   "source": [
    "# Definimos una función que multiplica por 100 el valor del argumento ingresado\n",
    "def untouchable(unt_value):\n",
    "    unt_value *= 100\n",
    "    return unt_value"
   ]
  },
  {
   "cell_type": "code",
   "execution_count": null,
   "metadata": {},
   "outputs": [],
   "source": [
    "# Ejecutamos la función con un argumento \n",
    "untouchable(7)"
   ]
  },
  {
   "cell_type": "code",
   "execution_count": null,
   "metadata": {},
   "outputs": [],
   "source": [
    "# Definimos una variable y la ingresamos como argumento a la función creada anteriormente\n",
    "# observemos que la función opera, pero la variable se mantiene intacta\n",
    "unt_variable = 3\n",
    "\n",
    "print(untouchable(unt_variable))\n",
    "print(unt_variable)"
   ]
  },
  {
   "cell_type": "code",
   "execution_count": null,
   "metadata": {},
   "outputs": [],
   "source": [
    "# Definimos una función para probar el mismo criterio con una lista\n",
    "def untouchable2(nume):\n",
    "    for g,h in enumerate(nume):\n",
    "        nume[g] *= 2\n",
    "        return nume"
   ]
  },
  {
   "cell_type": "code",
   "execution_count": null,
   "metadata": {},
   "outputs": [],
   "source": [
    "# Definimos una variable del tipo lista y la ingresamos como argumento de la función\n",
    "lis_prue = [10, 20, 30, 40, 50]"
   ]
  },
  {
   "cell_type": "code",
   "execution_count": null,
   "metadata": {},
   "outputs": [],
   "source": [
    "# Ejecutamos la función con el argumento lis_prue\n",
    "untouchable2(lis_prue)"
   ]
  },
  {
   "cell_type": "code",
   "execution_count": null,
   "metadata": {},
   "outputs": [],
   "source": [
    "# Printamos la variable tipo lista \"lis_prue\" y ya está modificada\n",
    "print(lis_prue)"
   ]
  },
  {
   "cell_type": "code",
   "execution_count": null,
   "metadata": {},
   "outputs": [],
   "source": [
    "# Si tengo una lista y no quiero que se modifique utilizo \"[:]\"\n",
    "lis_prue = [10, 20, 30, 40, 50]\n",
    "untouchable2(lis_prue[:]) "
   ]
  },
  {
   "cell_type": "code",
   "execution_count": null,
   "metadata": {},
   "outputs": [],
   "source": [
    "# Como vemos, la variable tipo lista ya no se modificó\n",
    "print(lis_prue)"
   ]
  },
  {
   "cell_type": "code",
   "execution_count": null,
   "metadata": {},
   "outputs": [],
   "source": [
    "# Ejecutamos una vez mas y a la función siguen entrando los mismos valores de la variable tipo lista\n",
    "untouchable2(lis_prue[:]) "
   ]
  },
  {
   "cell_type": "code",
   "execution_count": null,
   "metadata": {},
   "outputs": [],
   "source": [
    "# Para modificar el valor de una variable con una función\n",
    "# hay que asignarle por fuera el nuevo valor\n",
    "def untouchable_3(u_value):\n",
    "    return u_value * 3\n",
    "\n",
    "# Definimos la variable\n",
    "var_1 = 15\n",
    "# A esta misma le asignamos el valor de su ejecución como argumento dentro de la función\n",
    "var_1 = untouchable_3(var_1)\n",
    "# Printamos la variable con el nuevo valor\n",
    "print(var_1)"
   ]
  },
  {
   "cell_type": "code",
   "execution_count": null,
   "metadata": {},
   "outputs": [],
   "source": [
    "# Verificamos el nuevo valor\n",
    "print(var_1)"
   ]
  },
  {
   "cell_type": "markdown",
   "metadata": {},
   "source": [
    "<h3> Argumentos y parámetros indeterminados: </h3>\n",
    "\n",
    "Podemos definir una función que opere con un número de argumentos que no conocemos, para esto debemos colocar un asterisco * al principio del argumento de la función. El argumento utilizado puede tener múltiples elementos de distintos tipos."
   ]
  },
  {
   "cell_type": "code",
   "execution_count": null,
   "metadata": {},
   "outputs": [],
   "source": [
    "# Definimos la función con un asterisco al principio del argumento\n",
    "def argumentos_ind(*argu):\n",
    "    for el in argu:\n",
    "        print(el)"
   ]
  },
  {
   "cell_type": "code",
   "execution_count": null,
   "metadata": {},
   "outputs": [],
   "source": [
    "# Ejecutamos la función con un argumento de múltiples elementos\n",
    "argumentos_ind('Este es un número tipo float:', 3.1416, 'Y este un array:', [[2,2],[1,1]])"
   ]
  },
  {
   "cell_type": "markdown",
   "metadata": {},
   "source": [
    "Podemos usar esta propiedad para crear diccionarios de múltiples elementos relacionados, para esto debemos colocar doble asterisco ** antes del argumento de la función."
   ]
  },
  {
   "cell_type": "code",
   "execution_count": null,
   "metadata": {},
   "outputs": [],
   "source": [
    "# Definimos una función que acepta argumentos del tipo diccionario\n",
    "def mu_dic(**diccio):\n",
    "    print(diccio)"
   ]
  },
  {
   "cell_type": "code",
   "execution_count": null,
   "metadata": {},
   "outputs": [],
   "source": [
    "# Ejecutamos la función con múltiples elementos del tipo diccionario\n",
    "mu_dic(nombre='Rafael Valenzuela', profesión='Ing. Mecánico Electricista', edad=28)"
   ]
  },
  {
   "cell_type": "code",
   "execution_count": null,
   "metadata": {},
   "outputs": [],
   "source": [
    "# Si queremos printar solo los valores de cada diccionario\n",
    "def mu_dic2(**diccio):\n",
    "    for i in diccio:\n",
    "        print(i)\n",
    "\n",
    "mu_dic2(nombre='Rafael Valenzuela', profesión='Ing. Mecánico Electricista', edad=28)"
   ]
  },
  {
   "cell_type": "code",
   "execution_count": null,
   "metadata": {},
   "outputs": [],
   "source": [
    "# Si queremos printar cada diccionario con su valor asignado\n",
    "def mu_dic2(**diccio):\n",
    "    for i in diccio:\n",
    "        print(i,': ',diccio[i])\n",
    "\n",
    "mu_dic2(nombre='Rafael Valenzuela', profesión='Ing. Mecánico Electricista', edad=28)"
   ]
  },
  {
   "cell_type": "markdown",
   "metadata": {},
   "source": [
    "Podemos usar en una misma función argumentos multiples de variables y listas, definiendo los argumentos de los dos tipos separados por coma"
   ]
  },
  {
   "cell_type": "code",
   "execution_count": null,
   "metadata": {},
   "outputs": [],
   "source": [
    "# Función de variables y lista multielemento como argumento\n",
    "def mu_dic2(*argu, **diccio):\n",
    "    b = 0 \n",
    "    for el in argu:\n",
    "        b += el\n",
    "    print(b)\n",
    "    for i in diccio:\n",
    "        print(i,': ',diccio[i])"
   ]
  },
  {
   "cell_type": "code",
   "execution_count": null,
   "metadata": {},
   "outputs": [],
   "source": [
    "# Ejecutamos la función con argumento de variables y diccionario multielemento,\n",
    "# donde los cuatro primeros valores son variables y los demás son diccionarios\n",
    "\n",
    "mu_dic2(3.1416,10,20,-20,nombre='Rafael Valenzuela', profesión='Ing. Mecánico Electricista', edad=28)"
   ]
  },
  {
   "cell_type": "markdown",
   "metadata": {},
   "source": [
    "<h3> Funciones recursivas: </h3>\n",
    "\n",
    "Las funciones recursivas son aquellas que se llaman dentro de si mismas."
   ]
  },
  {
   "cell_type": "code",
   "execution_count": null,
   "metadata": {},
   "outputs": [],
   "source": [
    "# Definimos una función para hacer una cuenta atrás\n",
    "def cuenta_atrás(seg):\n",
    "    seg -= 1\n",
    "    if seg >= 0:\n",
    "        print(seg)\n",
    "        cuenta_atrás(seg)\n",
    "    else:\n",
    "        print('Termina cuenta atrás')"
   ]
  },
  {
   "cell_type": "code",
   "execution_count": null,
   "metadata": {},
   "outputs": [],
   "source": [
    "# Ejecutamos la función recursiva\n",
    "cuenta_atrás(20)"
   ]
  },
  {
   "cell_type": "markdown",
   "metadata": {},
   "source": [
    "<h3> Funciones integradas: </h3>\n",
    "\n",
    "Son funciones que transforman el tipo de dato de las variables. Donde los tipos de funciones integradas son: \"int()\", \"float()\", \"str()\""
   ]
  },
  {
   "cell_type": "code",
   "execution_count": null,
   "metadata": {},
   "outputs": [],
   "source": [
    "# Definimos una variable tipo \"str\"\n",
    "variable_string = \"1993\""
   ]
  },
  {
   "cell_type": "code",
   "execution_count": null,
   "metadata": {},
   "outputs": [],
   "source": [
    "# Printamos a la variable y verificamos el tipo de variable\n",
    "print(variable_string)\n",
    "print(type(variable_string))"
   ]
  },
  {
   "cell_type": "code",
   "execution_count": null,
   "metadata": {},
   "outputs": [],
   "source": [
    "# Cambiamos de string a integer\n",
    "variable_integer = int(variable_string)"
   ]
  },
  {
   "cell_type": "code",
   "execution_count": null,
   "metadata": {},
   "outputs": [],
   "source": [
    "# Printamos a la variable y verificamos el tipo de variable\n",
    "print(variable_integer)\n",
    "print(type(variable_integer))"
   ]
  },
  {
   "cell_type": "code",
   "execution_count": null,
   "metadata": {},
   "outputs": [],
   "source": [
    "# Cambiamos de integer a float y printamos la variable y su tipo\n",
    "variable_float = float(variable_integer)\n",
    "print(variable_float)\n",
    "print(type(variable_float))"
   ]
  },
  {
   "cell_type": "markdown",
   "metadata": {},
   "source": [
    "<h3> Funciones que retornan más de un valor: </h3>"
   ]
  },
  {
   "cell_type": "code",
   "execution_count": null,
   "metadata": {},
   "outputs": [],
   "source": [
    "# Definimos una función multivariable que retorna múltiples valores\n",
    "import math\n",
    "\n",
    "# Definimos una función que retorna más de una salida\n",
    "def solve(a, b, c):\n",
    "    d = math.sqrt(b**2 - 4*a*c)\n",
    "    x1 = (-b - d) / (2*a) \n",
    "    x2 = (-b + d) / (2*a)\n",
    "    return x1, x2 "
   ]
  },
  {
   "cell_type": "code",
   "execution_count": null,
   "metadata": {},
   "outputs": [],
   "source": [
    "solve(2, 4, -5)"
   ]
  },
  {
   "cell_type": "code",
   "execution_count": null,
   "metadata": {},
   "outputs": [],
   "source": [
    "# Como podemos observar las variables x1 y x2 no están definidas porque oertenecen a la función\n",
    "print(x1)\n",
    "print(type(x1))"
   ]
  },
  {
   "cell_type": "code",
   "execution_count": null,
   "metadata": {},
   "outputs": [],
   "source": [
    "# Para eliminar este error creamos una multivariable con los dos valores \n",
    "# retornados de la función (usaremos el mismo nombre que tienen las variables)\n",
    "x1, x2 = solve(3, -5, -5) \n",
    "\n",
    "print(x1)\n",
    "print(type(x1))\n",
    "print(x2)\n",
    "print(type(x2))"
   ]
  },
  {
   "cell_type": "code",
   "execution_count": null,
   "metadata": {},
   "outputs": [],
   "source": []
  }
 ],
 "metadata": {
  "kernelspec": {
   "display_name": "Python 3",
   "language": "python",
   "name": "python3"
  },
  "language_info": {
   "codemirror_mode": {
    "name": "ipython",
    "version": 3
   },
   "file_extension": ".py",
   "mimetype": "text/x-python",
   "name": "python",
   "nbconvert_exporter": "python",
   "pygments_lexer": "ipython3",
   "version": "3.7.3"
  }
 },
 "nbformat": 4,
 "nbformat_minor": 2
}

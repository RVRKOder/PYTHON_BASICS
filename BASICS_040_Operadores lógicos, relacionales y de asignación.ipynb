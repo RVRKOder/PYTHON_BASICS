{
 "cells": [
  {
   "cell_type": "markdown",
   "metadata": {},
   "source": [
    "<center><h1> 04.- OPERADORES </h1></center>\n",
    "\n",
    "<h2> A) Operadores lógicos. </h2>\n",
    "    \n",
    "Los $operadores\\:lógicos$ evalúan la condición de verdad entre dos o varios elementos, valores o variables. Los $OL$ son $and$, $or$ y $not$. De la evaluación con los $OL$ nos resultarán valores que son $True$ o $False$, los cuales indicarán si se cumplen o no las condiciones planteadas.\n",
    "\n",
    "<h3> Operador $and$ </h3>\n",
    "\n",
    "La operación $and$ resulta $True$ siempre que los elementos tengan el mismo valor y $False$ cuando ambos elementos sean $False$ o diferentes:"
   ]
  },
  {
   "cell_type": "code",
   "execution_count": 1,
   "metadata": {},
   "outputs": [
    {
     "data": {
      "text/plain": [
       "True"
      ]
     },
     "execution_count": 1,
     "metadata": {},
     "output_type": "execute_result"
    }
   ],
   "source": [
    "True and True"
   ]
  },
  {
   "cell_type": "code",
   "execution_count": 2,
   "metadata": {},
   "outputs": [
    {
     "data": {
      "text/plain": [
       "False"
      ]
     },
     "execution_count": 2,
     "metadata": {},
     "output_type": "execute_result"
    }
   ],
   "source": [
    "False and False"
   ]
  },
  {
   "cell_type": "code",
   "execution_count": 3,
   "metadata": {},
   "outputs": [
    {
     "data": {
      "text/plain": [
       "False"
      ]
     },
     "execution_count": 3,
     "metadata": {},
     "output_type": "execute_result"
    }
   ],
   "source": [
    "True and False"
   ]
  },
  {
   "cell_type": "code",
   "execution_count": 4,
   "metadata": {
    "scrolled": true
   },
   "outputs": [
    {
     "name": "stdout",
     "output_type": "stream",
     "text": [
      "número =  3.1416\n",
      "\n",
      "¿número == 3.1416?, (== \"estrictamente igual que\")\n",
      "True\n",
      "\n",
      "¿número != 3.1416?, (!= \"diferente de\")\n",
      "False\n",
      "\n",
      "¿número > 0 and número < 4?\n",
      "True\n",
      "\n",
      "¿número > 0 and número < 3?\n",
      "False\n"
     ]
    }
   ],
   "source": [
    "# Como ejemplo sometemos a la variable \"número\" a diferentes condiciones:\n",
    "\n",
    "número = 3.1416\n",
    "\n",
    "print('número = ', número)\n",
    "print('')\n",
    "print('¿número == 3.1416?, (== \"estrictamente igual que\")')\n",
    "print(número == 3.1416)\n",
    "print('')\n",
    "print('¿número != 3.1416?, (!= \"diferente de\")')\n",
    "print(número != 3.1416)\n",
    "print('')\n",
    "print('¿número > 0 and número < 4?')\n",
    "print(número > 0 and número < 4)\n",
    "print('')\n",
    "print('¿número > 0 and número < 3?')\n",
    "print(número > 0 and número < 3)"
   ]
  },
  {
   "cell_type": "markdown",
   "metadata": {},
   "source": [
    "<h3> Operador $or$ </h3>\n",
    "\n",
    "El operador $or$ será $True$ así las variables evaluadas sean iguales o diferentes, solo será $False$ en caso de que ambos elementos sean $False$:"
   ]
  },
  {
   "cell_type": "code",
   "execution_count": 5,
   "metadata": {},
   "outputs": [
    {
     "data": {
      "text/plain": [
       "True"
      ]
     },
     "execution_count": 5,
     "metadata": {},
     "output_type": "execute_result"
    }
   ],
   "source": [
    "True or True"
   ]
  },
  {
   "cell_type": "code",
   "execution_count": 6,
   "metadata": {},
   "outputs": [
    {
     "data": {
      "text/plain": [
       "True"
      ]
     },
     "execution_count": 6,
     "metadata": {},
     "output_type": "execute_result"
    }
   ],
   "source": [
    "True or False"
   ]
  },
  {
   "cell_type": "code",
   "execution_count": 7,
   "metadata": {},
   "outputs": [
    {
     "data": {
      "text/plain": [
       "True"
      ]
     },
     "execution_count": 7,
     "metadata": {},
     "output_type": "execute_result"
    }
   ],
   "source": [
    "False or True"
   ]
  },
  {
   "cell_type": "code",
   "execution_count": 8,
   "metadata": {},
   "outputs": [
    {
     "data": {
      "text/plain": [
       "False"
      ]
     },
     "execution_count": 8,
     "metadata": {},
     "output_type": "execute_result"
    }
   ],
   "source": [
    "False or False"
   ]
  },
  {
   "cell_type": "code",
   "execution_count": 9,
   "metadata": {},
   "outputs": [
    {
     "name": "stdout",
     "output_type": "stream",
     "text": [
      "nuevo_num = 3000\n",
      "\n",
      "nuevo_num > 0 or nuevo_num < 4\n",
      "True\n",
      "\n",
      "nuevo_num > 4000 or nuevo_num < 2000\n",
      "False\n",
      "\n",
      "nuevo_num > 4000 or nuevo_num < 3001\n",
      "True\n"
     ]
    }
   ],
   "source": [
    "# Como ejemplo sometemos a la variable \"nuevo_num\" a diferentes condiciones:\n",
    "\n",
    "nuevo_num = 3000\n",
    "\n",
    "print('nuevo_num = 3000')\n",
    "print('')\n",
    "print('nuevo_num > 0 or nuevo_num < 4')\n",
    "print(nuevo_num > 0 or nuevo_num < 4000)\n",
    "print('')\n",
    "print('nuevo_num > 4000 or nuevo_num < 2000')\n",
    "print(nuevo_num > 4000 or nuevo_num < 2000)\n",
    "print('')\n",
    "print('nuevo_num > 4000 or nuevo_num < 3001')\n",
    "print(nuevo_num > 4000 or nuevo_num < 3001)"
   ]
  },
  {
   "cell_type": "markdown",
   "metadata": {},
   "source": [
    "<h3> Circuitos cortos de operación: </h3>\n",
    "\n",
    "Los $CCE$ equivalen al uso de las sentencias $and$ y $or$ en expresiones lógicas, las cuales corresponden a su función booleana. \n",
    "- $and$ será $True$ solo si ambos elementos cumplen la condición, de lo contrario; con al menos un elemento que no cumpla la condición resultará en $False$.\n",
    "- $or$ será $True$ si al menos un elemento cumple la condición, de lo contraro, solo será $False$ cuando ambos elementos no cumplan la condición planteada."
   ]
  },
  {
   "cell_type": "code",
   "execution_count": 8,
   "metadata": {},
   "outputs": [
    {
     "name": "stdout",
     "output_type": "stream",
     "text": [
      "Todas son True\n"
     ]
    }
   ],
   "source": [
    "# Funciones \"and\" concatenadas se ejecutaran si la totalidad cumplen la condición:\n",
    "\n",
    "A, B, C = True, True, True\n",
    "\n",
    "if A and B and C:\n",
    "    print('Todas son True')\n",
    "else:\n",
    "    print('Alguna es false')"
   ]
  },
  {
   "cell_type": "code",
   "execution_count": 2,
   "metadata": {},
   "outputs": [
    {
     "name": "stdout",
     "output_type": "stream",
     "text": [
      "Condición incorrecta\n"
     ]
    }
   ],
   "source": [
    "# Cuando la primer variable es \"false\", no se puede cumplir el primer \"and\" por lo que se va a \"else\" \n",
    "\n",
    "A, B, C = False, True, True\n",
    "\n",
    "if A and B and C:\n",
    "    print('Todas son True')\n",
    "else:\n",
    "    print('Alguna es False')"
   ]
  },
  {
   "cell_type": "markdown",
   "metadata": {},
   "source": [
    "<h2> B) Operadores relacionales. </h2>\n",
    "\n",
    "Los $operadores\\:relacionales$ se utilizan para evaluar condiciones: \n",
    "- Iguales o equivalentes $==$.\n",
    "- Diferentes $!=$\n",
    "- Mayor que $>$\n",
    "- Menor que $<$\n",
    "- Mayor o igual $>=$\n",
    "- Menor o igual $<=$\n",
    "\n",
    "El resultado de tales relaciones resultarán en valores $True$ o $False$ dependiendo si se cumplen o no las condiciones. \n",
    "\n",
    "Recordar que el signo igual $=$ solo se usa para asignación."
   ]
  },
  {
   "cell_type": "code",
   "execution_count": 10,
   "metadata": {},
   "outputs": [],
   "source": [
    "# Definimos tres variables de tipo \"string\" para operar con los relacionales:\n",
    "\n",
    "a1 = 'Juanmix'\n",
    "a2 = 'Rafita'\n",
    "a3 = 'Banshow'"
   ]
  },
  {
   "cell_type": "code",
   "execution_count": 11,
   "metadata": {},
   "outputs": [
    {
     "data": {
      "text/plain": [
       "False"
      ]
     },
     "execution_count": 11,
     "metadata": {},
     "output_type": "execute_result"
    }
   ],
   "source": [
    "a1 == a2 and a1 == a3"
   ]
  },
  {
   "cell_type": "code",
   "execution_count": 12,
   "metadata": {},
   "outputs": [
    {
     "data": {
      "text/plain": [
       "False"
      ]
     },
     "execution_count": 12,
     "metadata": {},
     "output_type": "execute_result"
    }
   ],
   "source": [
    "a1 != a2 and a1 == a3"
   ]
  },
  {
   "cell_type": "code",
   "execution_count": 13,
   "metadata": {
    "scrolled": true
   },
   "outputs": [
    {
     "data": {
      "text/plain": [
       "True"
      ]
     },
     "execution_count": 13,
     "metadata": {},
     "output_type": "execute_result"
    }
   ],
   "source": [
    "a1 != a2 and a1 != a3"
   ]
  },
  {
   "cell_type": "markdown",
   "metadata": {},
   "source": [
    "<h2> La función $len$ </h2>\n",
    "\n",
    "La función $len(\\:)$ regresa el número de elementos que conforman a una variable, dichas variables deben conformarse por un conjunto de elementos como en el caso de las listas, las tuplas, los strings, los arreglos, etc."
   ]
  },
  {
   "cell_type": "code",
   "execution_count": 1,
   "metadata": {},
   "outputs": [
    {
     "data": {
      "text/plain": [
       "6"
      ]
     },
     "execution_count": 1,
     "metadata": {},
     "output_type": "execute_result"
    }
   ],
   "source": [
    "conjunto_ejemplo = [1, 2, 3, 4, 5, 6]\n",
    "\n",
    "len(conjunto_ejemplo)"
   ]
  },
  {
   "cell_type": "code",
   "execution_count": 14,
   "metadata": {},
   "outputs": [
    {
     "data": {
      "text/plain": [
       "False"
      ]
     },
     "execution_count": 14,
     "metadata": {},
     "output_type": "execute_result"
    }
   ],
   "source": [
    "len(a1) != len(a3)"
   ]
  },
  {
   "cell_type": "code",
   "execution_count": 15,
   "metadata": {},
   "outputs": [
    {
     "data": {
      "text/plain": [
       "True"
      ]
     },
     "execution_count": 15,
     "metadata": {},
     "output_type": "execute_result"
    }
   ],
   "source": [
    "len(a1) == len(a3)"
   ]
  },
  {
   "cell_type": "code",
   "execution_count": 16,
   "metadata": {},
   "outputs": [
    {
     "data": {
      "text/plain": [
       "True"
      ]
     },
     "execution_count": 16,
     "metadata": {},
     "output_type": "execute_result"
    }
   ],
   "source": [
    "# Los caracteres de las variables \"a2\" y \"a3\" en la posición \"1\" ¿Son iguales?:\n",
    "\n",
    "a2[1] == a3[1]"
   ]
  },
  {
   "cell_type": "code",
   "execution_count": 17,
   "metadata": {},
   "outputs": [
    {
     "name": "stdout",
     "output_type": "stream",
     "text": [
      "a\n",
      "a\n"
     ]
    }
   ],
   "source": [
    "# Como podemos ver, los caracteres de la posición \"1\" si son iguales:\n",
    "\n",
    "print(a2[1])\n",
    "print(a3[1])"
   ]
  },
  {
   "cell_type": "code",
   "execution_count": 18,
   "metadata": {},
   "outputs": [],
   "source": [
    "# Definimos tres variables numéricas diferentes para evaluarlas en diferentes condiciones:\n",
    "\n",
    "b1 = 3.1416\n",
    "b2 = 3.14\n",
    "b3 = 100"
   ]
  },
  {
   "cell_type": "code",
   "execution_count": 19,
   "metadata": {},
   "outputs": [
    {
     "name": "stdout",
     "output_type": "stream",
     "text": [
      "¿b1 es mayor que b2? y a su vez ¿b1 menor que b3?\n"
     ]
    },
    {
     "data": {
      "text/plain": [
       "True"
      ]
     },
     "execution_count": 19,
     "metadata": {},
     "output_type": "execute_result"
    }
   ],
   "source": [
    "print('¿b1 es mayor que b2? y a su vez ¿b1 menor que b3?')\n",
    "b1 > b2 and b1 < b3"
   ]
  },
  {
   "cell_type": "code",
   "execution_count": 20,
   "metadata": {},
   "outputs": [
    {
     "name": "stdout",
     "output_type": "stream",
     "text": [
      "¿b2 es diferente de b3?\n"
     ]
    },
    {
     "data": {
      "text/plain": [
       "True"
      ]
     },
     "execution_count": 20,
     "metadata": {},
     "output_type": "execute_result"
    }
   ],
   "source": [
    "print('¿b2 es diferente de b3?')\n",
    "b2 != b3"
   ]
  },
  {
   "cell_type": "code",
   "execution_count": 21,
   "metadata": {},
   "outputs": [
    {
     "name": "stdout",
     "output_type": "stream",
     "text": [
      "¿b2 es menor igual que b3?\n"
     ]
    },
    {
     "data": {
      "text/plain": [
       "True"
      ]
     },
     "execution_count": 21,
     "metadata": {},
     "output_type": "execute_result"
    }
   ],
   "source": [
    "print('¿b2 es menor igual que b3?')\n",
    "b2 <= b3"
   ]
  },
  {
   "cell_type": "code",
   "execution_count": 22,
   "metadata": {},
   "outputs": [
    {
     "name": "stdout",
     "output_type": "stream",
     "text": [
      "¿b2 es mayor igual que b3?\n"
     ]
    },
    {
     "data": {
      "text/plain": [
       "False"
      ]
     },
     "execution_count": 22,
     "metadata": {},
     "output_type": "execute_result"
    }
   ],
   "source": [
    "print('¿b2 es mayor igual que b3?')\n",
    "b2 >= b3"
   ]
  },
  {
   "cell_type": "markdown",
   "metadata": {},
   "source": [
    "<h3> Concatenación de operadores lógicos: </h3>\n",
    "\n",
    "Los operadores lógicos concatenados se pueden resumir en función de la variable que se va a acomparar, de este modo si tenemos que comparar una variable con dos valores, podemos usar un $and$ para concatenar la primer condición con la segunda, o bien, realizar la comparación en un función de la variable de interés."
   ]
  },
  {
   "cell_type": "code",
   "execution_count": 14,
   "metadata": {},
   "outputs": [
    {
     "name": "stdout",
     "output_type": "stream",
     "text": [
      "no eres adulto\n"
     ]
    }
   ],
   "source": [
    "# Operadores de comparación concatenados de la forma extendida:\n",
    "edad = 16\n",
    "\n",
    "if (edad >= 18) and (edad < 65):\n",
    "    print('Eres un adulto')\n",
    "else:\n",
    "    print('no eres adulto')"
   ]
  },
  {
   "cell_type": "code",
   "execution_count": 20,
   "metadata": {},
   "outputs": [
    {
     "name": "stdout",
     "output_type": "stream",
     "text": [
      "No eres adulto\n"
     ]
    }
   ],
   "source": [
    "# Operadores de comparación concatenados en función de la variable de interés:\n",
    "edad = 65\n",
    "\n",
    "if (18 <= edad < 65):\n",
    "    print('Eres un adulto')\n",
    "else:\n",
    "    print('No eres adulto')"
   ]
  },
  {
   "cell_type": "markdown",
   "metadata": {},
   "source": [
    "<h2> C) Operadores de asignación. </h2>\n",
    "\n",
    "Como su nombre lo indica, los $OA$ asignan un valor a una variable dada, que modifica a la variable en mayor o menor medida según el operador utilizado. Los distindos operadores de asignación son: \n",
    "- Sumar $+=$\n",
    "- Restar $-=$\n",
    "- Multiplicar $*=$\n",
    "- Dividir $/=$\n",
    "- Elevar a la potencia $**=$"
   ]
  },
  {
   "cell_type": "code",
   "execution_count": 23,
   "metadata": {},
   "outputs": [],
   "source": [
    "# Creamos una variable numérica de tipo \"float\"\n",
    "\n",
    "número2 = 4.5151"
   ]
  },
  {
   "cell_type": "code",
   "execution_count": 24,
   "metadata": {},
   "outputs": [
    {
     "name": "stdout",
     "output_type": "stream",
     "text": [
      "19.5151\n"
     ]
    }
   ],
   "source": [
    "# Usamos el operador de asignación \"+=\" para sumar un valor a la variable \"número\"\n",
    "\n",
    "número2 += 15\n",
    "print(número2)"
   ]
  },
  {
   "cell_type": "code",
   "execution_count": 25,
   "metadata": {},
   "outputs": [
    {
     "name": "stdout",
     "output_type": "stream",
     "text": [
      "16.3735\n"
     ]
    }
   ],
   "source": [
    "# Usamos el operador de asignación \"-=\" para restar un valor a la variable \"número\"\n",
    "\n",
    "número2 -= 3.1416\n",
    "print(número2)"
   ]
  },
  {
   "cell_type": "code",
   "execution_count": 26,
   "metadata": {},
   "outputs": [
    {
     "name": "stdout",
     "output_type": "stream",
     "text": [
      "122.80125\n"
     ]
    }
   ],
   "source": [
    "# Usamos el operador de asignación \"*=\" para multiplicar la variable \"número\" por otro número\n",
    "\n",
    "número2 *= 7.5\n",
    "print(número2)"
   ]
  },
  {
   "cell_type": "code",
   "execution_count": 27,
   "metadata": {},
   "outputs": [
    {
     "name": "stdout",
     "output_type": "stream",
     "text": [
      "24.56025\n"
     ]
    }
   ],
   "source": [
    "# Usamos el operador de asignación \"/=\" para dividir la variable \"número\" entre un valor\n",
    "\n",
    "número2 /= 5\n",
    "print(número2)"
   ]
  },
  {
   "cell_type": "code",
   "execution_count": 28,
   "metadata": {},
   "outputs": [
    {
     "name": "stdout",
     "output_type": "stream",
     "text": [
      "4.56025\n"
     ]
    }
   ],
   "source": [
    "# Usamos el operador de asignación \"%=\" para calcular el módulo de la variable \"número\" entre un valor,\n",
    "# la variable \"número\" tomará el valor del módulo\n",
    "\n",
    "número2 %= 10\n",
    "print(número2)"
   ]
  },
  {
   "cell_type": "code",
   "execution_count": 29,
   "metadata": {},
   "outputs": [
    {
     "name": "stdout",
     "output_type": "stream",
     "text": [
      "9.1205\n"
     ]
    }
   ],
   "source": [
    "# La variable \"número\" conserva el último valor \"asignado\", en este caso es el valor del módulo o resto de la \n",
    "# división (\"número\" / 10) = 4.56025\n",
    "\n",
    "a = 2\n",
    "b = número2 * a\n",
    "\n",
    "print(b)"
   ]
  }
 ],
 "metadata": {
  "kernelspec": {
   "display_name": "Python 3",
   "language": "python",
   "name": "python3"
  },
  "language_info": {
   "codemirror_mode": {
    "name": "ipython",
    "version": 3
   },
   "file_extension": ".py",
   "mimetype": "text/x-python",
   "name": "python",
   "nbconvert_exporter": "python",
   "pygments_lexer": "ipython3",
   "version": "3.7.3"
  }
 },
 "nbformat": 4,
 "nbformat_minor": 2
}

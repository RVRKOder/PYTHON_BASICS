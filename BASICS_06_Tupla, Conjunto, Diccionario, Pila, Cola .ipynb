{
 "cells": [
  {
   "cell_type": "markdown",
   "metadata": {},
   "source": [
    "<center> <h1> 06.- CONJUNTOS DE ELEMENTOS </h1> </center>\n",
    "\n",
    "<h2> Tuplas: $tuple$: </h2>\n",
    "\n",
    "Las $tuplas$ son un tipo de estructura de datos en la cual los elementos de la colección no se pueden modificar (son $inmutables$). Las $tuplas$ se definen entre paréntesis $(\\:)$, y pueden contener diferentes tipos de datos."
   ]
  },
  {
   "cell_type": "code",
   "execution_count": 46,
   "metadata": {},
   "outputs": [],
   "source": [
    "a = (12, 12.5, -10, 'Si', 'No', [1,2], [[1,2],[2,1]])"
   ]
  },
  {
   "cell_type": "code",
   "execution_count": 47,
   "metadata": {},
   "outputs": [
    {
     "name": "stdout",
     "output_type": "stream",
     "text": [
      "(12, 12.5, -10, 'Si', 'No', [1, 2], [[1, 2], [2, 1]])\n",
      "<class 'tuple'>\n"
     ]
    }
   ],
   "source": [
    "# Elementos de la tupla \"a\"\n",
    "print(a)\n",
    "print(type(a))"
   ]
  },
  {
   "cell_type": "code",
   "execution_count": 13,
   "metadata": {},
   "outputs": [
    {
     "data": {
      "text/plain": [
       "12"
      ]
     },
     "execution_count": 13,
     "metadata": {},
     "output_type": "execute_result"
    }
   ],
   "source": [
    "# Elemento de la tupla \"a\" en la posición 0\n",
    "a[0]"
   ]
  },
  {
   "cell_type": "code",
   "execution_count": 14,
   "metadata": {},
   "outputs": [
    {
     "data": {
      "text/plain": [
       "'Si'"
      ]
     },
     "execution_count": 14,
     "metadata": {},
     "output_type": "execute_result"
    }
   ],
   "source": [
    "# Elemento de la tupla \"a\" en la posición 3\n",
    "a[3]"
   ]
  },
  {
   "cell_type": "code",
   "execution_count": 16,
   "metadata": {},
   "outputs": [
    {
     "data": {
      "text/plain": [
       "[[1, 2], [2, 1]]"
      ]
     },
     "execution_count": 16,
     "metadata": {},
     "output_type": "execute_result"
    }
   ],
   "source": [
    "# Elemento de la tupla \"a\" en la posición 6\n",
    "a[6]"
   ]
  },
  {
   "cell_type": "code",
   "execution_count": 19,
   "metadata": {},
   "outputs": [
    {
     "data": {
      "text/plain": [
       "(12, 12.5, -10)"
      ]
     },
     "execution_count": 19,
     "metadata": {},
     "output_type": "execute_result"
    }
   ],
   "source": [
    "# Elementos de la tupla \"a\" desde la posición 0 hasta la posición 3\n",
    "a[0:3]"
   ]
  },
  {
   "cell_type": "code",
   "execution_count": 20,
   "metadata": {},
   "outputs": [
    {
     "data": {
      "text/plain": [
       "('Si', 'No', [1, 2], [[1, 2], [2, 1]])"
      ]
     },
     "execution_count": 20,
     "metadata": {},
     "output_type": "execute_result"
    }
   ],
   "source": [
    "# Elementos de la tupla \"a\" a partir de la posición 3\n",
    "a[3:]"
   ]
  },
  {
   "cell_type": "code",
   "execution_count": 21,
   "metadata": {},
   "outputs": [
    {
     "ename": "TypeError",
     "evalue": "'tuple' object does not support item assignment",
     "output_type": "error",
     "traceback": [
      "\u001b[1;31m---------------------------------------------------------------------------\u001b[0m",
      "\u001b[1;31mTypeError\u001b[0m                                 Traceback (most recent call last)",
      "\u001b[1;32m<ipython-input-21-53d07f001cd3>\u001b[0m in \u001b[0;36m<module>\u001b[1;34m\u001b[0m\n\u001b[1;32m----> 1\u001b[1;33m \u001b[0ma\u001b[0m\u001b[1;33m[\u001b[0m\u001b[1;36m3\u001b[0m\u001b[1;33m]\u001b[0m \u001b[1;33m=\u001b[0m \u001b[1;34m'NO'\u001b[0m\u001b[1;33m\u001b[0m\u001b[1;33m\u001b[0m\u001b[0m\n\u001b[0m",
      "\u001b[1;31mTypeError\u001b[0m: 'tuple' object does not support item assignment"
     ]
    }
   ],
   "source": [
    "# Las tuplas no se pueden modificar\n",
    "a[3] = 'NO'"
   ]
  },
  {
   "cell_type": "code",
   "execution_count": 22,
   "metadata": {},
   "outputs": [
    {
     "data": {
      "text/plain": [
       "7"
      ]
     },
     "execution_count": 22,
     "metadata": {},
     "output_type": "execute_result"
    }
   ],
   "source": [
    "# Longitud o número de elementos de la tupla \"a\"\n",
    "len(a)"
   ]
  },
  {
   "cell_type": "code",
   "execution_count": 26,
   "metadata": {},
   "outputs": [
    {
     "data": {
      "text/plain": [
       "2"
      ]
     },
     "execution_count": 26,
     "metadata": {},
     "output_type": "execute_result"
    }
   ],
   "source": [
    "# Longitud del elemento que se encuentra en la posición 6 de la tupla \"a\"\n",
    "len(a[6])"
   ]
  },
  {
   "cell_type": "code",
   "execution_count": 27,
   "metadata": {},
   "outputs": [
    {
     "data": {
      "text/plain": [
       "4"
      ]
     },
     "execution_count": 27,
     "metadata": {},
     "output_type": "execute_result"
    }
   ],
   "source": [
    "# En qué posición de la tupla \"a\" se encuentra el elemento No\n",
    "a.index('No')"
   ]
  },
  {
   "cell_type": "code",
   "execution_count": 34,
   "metadata": {},
   "outputs": [
    {
     "data": {
      "text/plain": [
       "1"
      ]
     },
     "execution_count": 34,
     "metadata": {},
     "output_type": "execute_result"
    }
   ],
   "source": [
    "# Contar cuántos elementos \"-10\" hay en la tupla \"a\"\n",
    "a.count(-10)"
   ]
  },
  {
   "cell_type": "code",
   "execution_count": 32,
   "metadata": {},
   "outputs": [
    {
     "data": {
      "text/plain": [
       "int"
      ]
     },
     "execution_count": 32,
     "metadata": {},
     "output_type": "execute_result"
    }
   ],
   "source": [
    "# De qué tipo es el elemento que está en la posición 0\n",
    "type(a[0])"
   ]
  },
  {
   "cell_type": "code",
   "execution_count": 47,
   "metadata": {},
   "outputs": [
    {
     "data": {
      "text/plain": [
       "str"
      ]
     },
     "execution_count": 47,
     "metadata": {},
     "output_type": "execute_result"
    }
   ],
   "source": [
    "# De qué tipo es el elemento que está en la posición 3\n",
    "type(a[3])"
   ]
  },
  {
   "cell_type": "code",
   "execution_count": 36,
   "metadata": {},
   "outputs": [
    {
     "data": {
      "text/plain": [
       "list"
      ]
     },
     "execution_count": 36,
     "metadata": {},
     "output_type": "execute_result"
    }
   ],
   "source": [
    "# De qué tipo es el elemento que está en la posición 6\n",
    "type(a[6])"
   ]
  },
  {
   "cell_type": "markdown",
   "metadata": {},
   "source": [
    "<h2> Conjuntos: $set$ </h2>\n",
    "\n",
    "Los $conjuntos$ son una estructura de datos que consiste en una $colección\\:desordenada$, su utilidad es hacer la comprobación de pertenencia a los grupos y la eliminación de los elementos duplicados. Los conjuntos se definen entre llaves ${}$. \n",
    "\n",
    "Un conjunto puede contener distintos tipos de datos como $str$, $float$, $int$, $array$."
   ]
  },
  {
   "cell_type": "code",
   "execution_count": 43,
   "metadata": {},
   "outputs": [],
   "source": [
    "# Se definen {entre llaves}\n",
    "x = {7, 5, 3.1416, 9, 'Rafiki', 'Juanmi'}"
   ]
  },
  {
   "cell_type": "code",
   "execution_count": 45,
   "metadata": {},
   "outputs": [
    {
     "name": "stdout",
     "output_type": "stream",
     "text": [
      "{3.1416, 5, 7, 9, 'Rafiki', 'Juanmi'}\n",
      "<class 'set'>\n"
     ]
    }
   ],
   "source": [
    "# Siempre se imprimen de manera ordenada\n",
    "print(x)\n",
    "print(type(x))"
   ]
  },
  {
   "cell_type": "code",
   "execution_count": 45,
   "metadata": {},
   "outputs": [
    {
     "data": {
      "text/plain": [
       "{1, 10, 3.1416, 5, 50, 7, 9, 'Alva', 'Juanmi', 'Rafiki', 'Zopilote'}"
      ]
     },
     "execution_count": 45,
     "metadata": {},
     "output_type": "execute_result"
    }
   ],
   "source": [
    "# Si agregamos elementos siguen apareciendo de manera ordenada, el comando \".add()\" \n",
    "# agrega el dato contenido en el paréntesis a la variable asignada antes del punto\n",
    "x.add(1)\n",
    "x.add(10)\n",
    "x.add(50)\n",
    "x.add('Alva')\n",
    "x.add('Zopilote')\n",
    "x"
   ]
  },
  {
   "cell_type": "code",
   "execution_count": 50,
   "metadata": {},
   "outputs": [
    {
     "data": {
      "text/plain": [
       "True"
      ]
     },
     "execution_count": 50,
     "metadata": {},
     "output_type": "execute_result"
    }
   ],
   "source": [
    "# Verificar si el elemento Alva pertenece al conjunto \"x\"\n",
    "'Alva' in x"
   ]
  },
  {
   "cell_type": "code",
   "execution_count": 52,
   "metadata": {},
   "outputs": [
    {
     "data": {
      "text/plain": [
       "True"
      ]
     },
     "execution_count": 52,
     "metadata": {},
     "output_type": "execute_result"
    }
   ],
   "source": [
    "# Verificar si el elemento 3.1416 pertenece al conjunto \"x\"\n",
    "3.1416 in x"
   ]
  },
  {
   "cell_type": "code",
   "execution_count": 53,
   "metadata": {},
   "outputs": [
    {
     "data": {
      "text/plain": [
       "False"
      ]
     },
     "execution_count": 53,
     "metadata": {},
     "output_type": "execute_result"
    }
   ],
   "source": [
    "# Verificar si el elemento Rafa pertenece al conjunto \"x\"\n",
    "'Rafa' in x"
   ]
  },
  {
   "cell_type": "code",
   "execution_count": 56,
   "metadata": {},
   "outputs": [
    {
     "data": {
      "text/plain": [
       "[15, 7, 6, 'hola', 0, 0, 1, 1, 2, 2, 3, 3, 'rafa', 'rafa']"
      ]
     },
     "execution_count": 56,
     "metadata": {},
     "output_type": "execute_result"
    }
   ],
   "source": [
    "lista_prueba = [15,7,6,'hola',0,0,1,1,2,2,3,3,'rafa','rafa']\n",
    "lista_prueba"
   ]
  },
  {
   "cell_type": "code",
   "execution_count": 57,
   "metadata": {},
   "outputs": [
    {
     "data": {
      "text/plain": [
       "{0, 1, 15, 2, 3, 6, 7, 'hola', 'rafa'}"
      ]
     },
     "execution_count": 57,
     "metadata": {},
     "output_type": "execute_result"
    }
   ],
   "source": [
    "# Convertir la lista \"lista_prueba\" a una variable del tipo conjunto\n",
    "conjunto_prueba = set(lista_prueba)\n",
    "conjunto_prueba"
   ]
  },
  {
   "cell_type": "code",
   "execution_count": 60,
   "metadata": {},
   "outputs": [
    {
     "data": {
      "text/plain": [
       "'Este es un elemento tipo cadena de caracteres que se convertirá a conjunto'"
      ]
     },
     "execution_count": 60,
     "metadata": {},
     "output_type": "execute_result"
    }
   ],
   "source": [
    "cadena = 'Este es un elemento tipo cadena de caracteres que se convertirá a conjunto'\n",
    "cadena"
   ]
  },
  {
   "cell_type": "code",
   "execution_count": 61,
   "metadata": {},
   "outputs": [
    {
     "data": {
      "text/plain": [
       "{' ',\n",
       " 'E',\n",
       " 'a',\n",
       " 'c',\n",
       " 'd',\n",
       " 'e',\n",
       " 'i',\n",
       " 'j',\n",
       " 'l',\n",
       " 'm',\n",
       " 'n',\n",
       " 'o',\n",
       " 'p',\n",
       " 'q',\n",
       " 'r',\n",
       " 's',\n",
       " 't',\n",
       " 'u',\n",
       " 'v',\n",
       " 'á'}"
      ]
     },
     "execution_count": 61,
     "metadata": {},
     "output_type": "execute_result"
    }
   ],
   "source": [
    "# Convertir la variable \"cadena\" de tipo \"string\" a una variable tipo \"conjunto\"\n",
    "cadena_conjunto = set(cadena)\n",
    "cadena_conjunto"
   ]
  },
  {
   "cell_type": "markdown",
   "metadata": {},
   "source": [
    "<h2> Diccionarios: $dict$: </h2>\n",
    "\n",
    "Las variables tipo $diccionario$ ($dict$) también se definen entre llaves {}, pero a diferencia de los conjuntos, la colección de elementos se define por pares de elementos que eneralmente guardan ciertas relaciones.\n",
    "\n",
    "Los pares de elementos dentro de los diccionarios se definen de la siguiente forma: \n",
    "- { $elemento_{1a}\\::\\:elenento_{1b}\\:,\\:elemento_{2a}\\::\\:elenento_{2b}\\:...\\:elemento_{na}\\::\\:elenento_{nb}$}"
   ]
  },
  {
   "cell_type": "code",
   "execution_count": 31,
   "metadata": {},
   "outputs": [],
   "source": [
    "Rafa_dt = {'Nombre':'Rafael Valenzuela', 'Año de nacimiento':1993, 'Edad':27, 'Goles':3} \n",
    "Martha_dt = {'Nombre':'Martha Valenzuela', 'Año de nacimiento':2001, 'Edad':20, 'Goles':1}"
   ]
  },
  {
   "cell_type": "code",
   "execution_count": 32,
   "metadata": {},
   "outputs": [
    {
     "name": "stdout",
     "output_type": "stream",
     "text": [
      "{'Nombre': 'Rafael Valenzuela', 'Año de nacimiento': 1993, 'Edad': 27, 'Goles': 3}\n",
      "<class 'dict'>\n",
      "{'Nombre': 'Martha Valenzuela', 'Año de nacimiento': 2001, 'Edad': 20, 'Goles': 1}\n",
      "<class 'dict'>\n"
     ]
    }
   ],
   "source": [
    "print(Rafa_dt)\n",
    "print(type(Rafa_dt))\n",
    "print(Martha_dt)\n",
    "print(type(Martha_dt))"
   ]
  },
  {
   "cell_type": "code",
   "execution_count": 33,
   "metadata": {},
   "outputs": [
    {
     "name": "stdout",
     "output_type": "stream",
     "text": [
      "Rafael Valenzuela\n",
      "1993\n",
      "27\n",
      "3\n",
      "Martha Valenzuela\n",
      "2001\n",
      "20\n",
      "1\n"
     ]
    }
   ],
   "source": [
    "# Llamar un elemento asignado a otro elemento\n",
    "print(Rafa_dt['Nombre'])\n",
    "print(Rafa_dt['Año de nacimiento'])\n",
    "print(Rafa_dt['Edad'])\n",
    "print(Rafa_dt['Goles'])\n",
    "print(Martha_dt['Nombre'])\n",
    "print(Martha_dt['Año de nacimiento'])\n",
    "print(Martha_dt['Edad'])\n",
    "print(Martha_dt['Goles'])"
   ]
  },
  {
   "cell_type": "code",
   "execution_count": 34,
   "metadata": {},
   "outputs": [
    {
     "name": "stdout",
     "output_type": "stream",
     "text": [
      "{'Nombre': 'Rafael Valenzuela Rodríguez', 'Año de nacimiento': 1993, 'Edad': 27, 'Goles': 3}\n",
      "{'Nombre': 'Martha Mariana Valenzuela Rodríguez', 'Año de nacimiento': 2001, 'Edad': 20, 'Goles': 1}\n"
     ]
    }
   ],
   "source": [
    "# Modificar elementos dentro del diccionario\n",
    "Rafa_dt['Nombre'] = 'Rafael Valenzuela Rodríguez'\n",
    "print(Rafa_dt)\n",
    "Martha_dt['Nombre'] = 'Martha Mariana Valenzuela Rodríguez'\n",
    "print(Martha_dt)"
   ]
  },
  {
   "cell_type": "code",
   "execution_count": 35,
   "metadata": {},
   "outputs": [
    {
     "name": "stdout",
     "output_type": "stream",
     "text": [
      "{'Nombre': 'Rafael Valenzuela Rodríguez', 'Año de nacimiento': 1993, 'Goles': 3}\n",
      "{'Nombre': 'Martha Mariana Valenzuela Rodríguez', 'Año de nacimiento': 2001, 'Goles': 1}\n"
     ]
    }
   ],
   "source": [
    "# Eliminar elementos\n",
    "del(Rafa_dt['Edad'])\n",
    "print(Rafa_dt)\n",
    "del(Martha_dt['Edad'])\n",
    "print(Martha_dt)"
   ]
  },
  {
   "cell_type": "code",
   "execution_count": 36,
   "metadata": {},
   "outputs": [
    {
     "name": "stdout",
     "output_type": "stream",
     "text": [
      "{'Nombre': 'Rafael Valenzuela Rodríguez', 'Año de nacimiento': 1993, 'Goles': 5}\n",
      "{'Nombre': 'Martha Mariana Valenzuela Rodríguez', 'Año de nacimiento': 2001, 'Goles': 6}\n"
     ]
    }
   ],
   "source": [
    "# Editar valores numéricos\n",
    "Rafa_dt['Goles'] += 2\n",
    "print(Rafa_dt)\n",
    "Martha_dt['Goles'] += 5\n",
    "print(Martha_dt)"
   ]
  },
  {
   "cell_type": "code",
   "execution_count": 37,
   "metadata": {},
   "outputs": [
    {
     "data": {
      "text/plain": [
       "11"
      ]
     },
     "execution_count": 37,
     "metadata": {},
     "output_type": "execute_result"
    }
   ],
   "source": [
    "# Se puede interactuar con los valores de varios diccionarios\n",
    "Rafa_dt['Goles'] + Martha_dt['Goles']"
   ]
  },
  {
   "cell_type": "code",
   "execution_count": 38,
   "metadata": {},
   "outputs": [
    {
     "name": "stdout",
     "output_type": "stream",
     "text": [
      "Nombre\n",
      "Año de nacimiento\n",
      "Goles\n"
     ]
    }
   ],
   "source": [
    "# Usar diccionarios con ciclo \"for\"\n",
    "for info in Rafa_dt:\n",
    "    print(info)"
   ]
  },
  {
   "cell_type": "code",
   "execution_count": 41,
   "metadata": {},
   "outputs": [
    {
     "name": "stdout",
     "output_type": "stream",
     "text": [
      "Nombre Rafael Valenzuela Rodríguez\n",
      "Año de nacimiento 1993\n",
      "Goles 5\n",
      "Nombre Martha Mariana Valenzuela Rodríguez\n",
      "Año de nacimiento 2001\n",
      "Goles 6\n"
     ]
    }
   ],
   "source": [
    "# Uso correcto para desplegar la info del diccionario con ciclo \"for\"\n",
    "for info in Rafa_dt:\n",
    "    print(info, Rafa_dt[info])\n",
    "\n",
    "for info in Martha_dt:\n",
    "    print(info, Martha_dt[info])"
   ]
  },
  {
   "cell_type": "markdown",
   "metadata": {},
   "source": [
    "<h2> Pilas: $stack$ </h2>\n",
    "\n",
    "Las $pilas$ como las listas, se definen entre corchetes $[]$, tienen la cualidad de ser modificables y los datos que se agregan pueden ser repetibles. Hay que tomar en cuenta de las $pilas$ funcionan como una pila de platos: \n",
    "\n",
    "- $El\\:último\\:elemento\\:en\\:entrar,\\:es\\:el\\:primer\\:elemento\\:en\\:salir$"
   ]
  },
  {
   "cell_type": "code",
   "execution_count": 28,
   "metadata": {},
   "outputs": [
    {
     "name": "stdout",
     "output_type": "stream",
     "text": [
      "[1, 2, 3, 'Rafa']\n",
      "<class 'list'>\n"
     ]
    }
   ],
   "source": [
    "pila1 = [1,2,3, 'Rafa']\n",
    "print(pila1)\n",
    "print(type(pila1))"
   ]
  },
  {
   "cell_type": "code",
   "execution_count": 29,
   "metadata": {
    "scrolled": true
   },
   "outputs": [],
   "source": [
    "# Apilar nuevos elementos y printar la nueva pila, se printan aunque estén repetidos\n",
    "pila1.append(13)"
   ]
  },
  {
   "cell_type": "code",
   "execution_count": 30,
   "metadata": {},
   "outputs": [],
   "source": [
    "pila1.append('Juanmix')"
   ]
  },
  {
   "cell_type": "code",
   "execution_count": 31,
   "metadata": {},
   "outputs": [],
   "source": [
    "pila1.append(3)"
   ]
  },
  {
   "cell_type": "code",
   "execution_count": 32,
   "metadata": {},
   "outputs": [
    {
     "name": "stdout",
     "output_type": "stream",
     "text": [
      "[1, 2, 3, 'Rafa', 13, 'Juanmix', 3]\n"
     ]
    }
   ],
   "source": [
    "print(pila1)"
   ]
  },
  {
   "cell_type": "code",
   "execution_count": 33,
   "metadata": {},
   "outputs": [
    {
     "name": "stdout",
     "output_type": "stream",
     "text": [
      "[1, 2, 3, 'Rafa', 13, 'Juanmix']\n"
     ]
    }
   ],
   "source": [
    "# Al desapilar elementos estos se pierden para siempre. Se van desapilando elemento por elemento\n",
    "pila1.pop()\n",
    "print(pila1)"
   ]
  },
  {
   "cell_type": "code",
   "execution_count": 34,
   "metadata": {},
   "outputs": [
    {
     "name": "stdout",
     "output_type": "stream",
     "text": [
      "[1, 2, 3, 'Rafa', 13]\n"
     ]
    }
   ],
   "source": [
    "# Hasta aquí desapilamos los últimos dos elementos (3 y 'Juanmix')\n",
    "pila1.pop()\n",
    "print(pila1)"
   ]
  },
  {
   "cell_type": "markdown",
   "metadata": {},
   "source": [
    " <h2> Colas: $queue$ </h2>\n",
    "\n",
    "Se debe tomar en cuenta que las $colas$ funcionan como una cola de supermercado.:\n",
    "\n",
    "- $El\\:primer\\:elemento\\:en\\:entrar,\\:es\\:el\\:primer\\:elemento\\:en\\:salir$"
   ]
  },
  {
   "cell_type": "code",
   "execution_count": 1,
   "metadata": {},
   "outputs": [],
   "source": [
    "# Para usar las \"colas\" debemos importar la siguiente librería\n",
    "from collections import deque"
   ]
  },
  {
   "cell_type": "code",
   "execution_count": 18,
   "metadata": {},
   "outputs": [
    {
     "name": "stdout",
     "output_type": "stream",
     "text": [
      "deque([])\n",
      "<class 'collections.deque'>\n"
     ]
    }
   ],
   "source": [
    "# Las colas se crean de la siguiente forma\n",
    "cola1 = deque()\n",
    "print(cola1)\n",
    "print(type(cola1))"
   ]
  },
  {
   "cell_type": "code",
   "execution_count": 19,
   "metadata": {},
   "outputs": [
    {
     "name": "stdout",
     "output_type": "stream",
     "text": [
      "deque(['Rafita', 'Juanmi', 'Chelito'])\n"
     ]
    }
   ],
   "source": [
    "cola1 = deque(['Rafita', 'Juanmi', 'Chelito'])\n",
    "print(cola1)"
   ]
  },
  {
   "cell_type": "code",
   "execution_count": 20,
   "metadata": {},
   "outputs": [
    {
     "name": "stdout",
     "output_type": "stream",
     "text": [
      "deque(['Rafita', 'Juanmi'])\n"
     ]
    }
   ],
   "source": [
    "# Sacamos de la cola el último elemento\n",
    "cola1.pop() \n",
    "print(cola1)"
   ]
  },
  {
   "cell_type": "code",
   "execution_count": 21,
   "metadata": {},
   "outputs": [
    {
     "name": "stdout",
     "output_type": "stream",
     "text": [
      "deque(['Rafita'])\n"
     ]
    }
   ],
   "source": [
    "cola1.pop() \n",
    "print(cola1)"
   ]
  },
  {
   "cell_type": "code",
   "execution_count": 22,
   "metadata": {},
   "outputs": [
    {
     "name": "stdout",
     "output_type": "stream",
     "text": [
      "deque([])\n"
     ]
    }
   ],
   "source": [
    "cola1.pop() \n",
    "print(cola1)"
   ]
  },
  {
   "cell_type": "code",
   "execution_count": 23,
   "metadata": {},
   "outputs": [],
   "source": [
    "cola1.append(10)"
   ]
  },
  {
   "cell_type": "code",
   "execution_count": 24,
   "metadata": {},
   "outputs": [],
   "source": [
    "cola1.append('Radiohead')"
   ]
  },
  {
   "cell_type": "code",
   "execution_count": 25,
   "metadata": {},
   "outputs": [],
   "source": [
    "cola1.append('Blur')"
   ]
  },
  {
   "cell_type": "code",
   "execution_count": 26,
   "metadata": {},
   "outputs": [],
   "source": [
    "cola1.append(0.1416)"
   ]
  },
  {
   "cell_type": "code",
   "execution_count": 27,
   "metadata": {},
   "outputs": [
    {
     "name": "stdout",
     "output_type": "stream",
     "text": [
      "deque([10, 'Radiohead', 'Blur', 0.1416])\n"
     ]
    }
   ],
   "source": [
    "print(cola1)"
   ]
  }
 ],
 "metadata": {
  "kernelspec": {
   "display_name": "Python 3",
   "language": "python",
   "name": "python3"
  },
  "language_info": {
   "codemirror_mode": {
    "name": "ipython",
    "version": 3
   },
   "file_extension": ".py",
   "mimetype": "text/x-python",
   "name": "python",
   "nbconvert_exporter": "python",
   "pygments_lexer": "ipython3",
   "version": "3.7.3"
  }
 },
 "nbformat": 4,
 "nbformat_minor": 2
}

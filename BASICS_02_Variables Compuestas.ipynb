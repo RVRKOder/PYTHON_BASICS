{
 "cells": [
  {
   "cell_type": "markdown",
   "metadata": {},
   "source": [
    "<center><h1> VARIABLES COMPUESTAS </h1></center>\n",
    "\n",
    "Como su nombre lo indica; las variables compuestas son aquellas que se componen o se construyen a partir de otro tipo de variables y/o datos (generalmente datos o variables primitivas).\n",
    "\n",
    "Entre las más utilizadas se tienen a las cadenas de caracteres $string$, las listas $list$ y las tuplas $tuple$. Adicionalmente se puede mencionar a los arreglos $array$, pero se tendrá una sección de estudio especialmente para estos.\n",
    "\n",
    "<h2> CADENAS DE CARACTERES: $string$ </h2>\n",
    "\n",
    "Este tipo de variables se definen como cadenas o secuencias de caracteres alfanuméricos incluyendo el espacio vacío, las cuales se utilizan para representar texto. Este tipo de variable se define entre comillas dobles $\"\\:\"$ o comillas simples $'\\:'$"
   ]
  },
  {
   "cell_type": "code",
   "execution_count": 4,
   "metadata": {},
   "outputs": [
    {
     "name": "stdout",
     "output_type": "stream",
     "text": [
      "String de comilla simple\n",
      "\n",
      "String de comilla doble\n"
     ]
    }
   ],
   "source": [
    "# CREAMOS DOS VARIABLES DE TIPO STRING: \n",
    "\n",
    "Cs = 'String de comilla simple'\n",
    "Cd = \"String de comilla doble\"\n",
    "\n",
    "print(Cs)\n",
    "print('')\n",
    "print(Cd)"
   ]
  },
  {
   "cell_type": "markdown",
   "metadata": {},
   "source": [
    "<h2> INDEXACIÓN </h2>\n",
    "\n",
    "La indexación se refiere al orden que se asigna a cada elemento individual dentro de un conjunto de elementos en una variable. Algunas variables que se pueden crear a partir de colecciones de datos son los $string$, las $listas$, las $tuplas$ y los $arrays$. \n",
    "\n",
    "El índice es el número identificador de cada elemento y a su vez el método de llamada para realizar acciones con los mismos. En Python el orden de indexación comienza en cero $0, 1, 2, 3, 4...$ "
   ]
  },
  {
   "cell_type": "code",
   "execution_count": 5,
   "metadata": {},
   "outputs": [],
   "source": [
    "# Se define una variable tipo \"string\" y se asigna a una variable:\n",
    "\n",
    "A = 'HOLA MUNDO'"
   ]
  },
  {
   "cell_type": "code",
   "execution_count": 6,
   "metadata": {},
   "outputs": [
    {
     "data": {
      "text/plain": [
       "10"
      ]
     },
     "execution_count": 6,
     "metadata": {},
     "output_type": "execute_result"
    }
   ],
   "source": [
    "# La función \"len()\" nos da como salida el número de elementos de una colexión de elementos:\n",
    "len(A)"
   ]
  },
  {
   "cell_type": "code",
   "execution_count": 7,
   "metadata": {},
   "outputs": [
    {
     "name": "stdout",
     "output_type": "stream",
     "text": [
      "El primer elemento en HOLA MUNDO es:  H\n",
      " \n",
      "El quinto elemento en HOLA MUNDO es:   \n",
      " \n",
      "El último elemento en HOLA MUNDO es:  O\n"
     ]
    }
   ],
   "source": [
    "# Imprimimos el primer, quinto y último elemento de la variable \"A\":\n",
    "print('El primer elemento en', A, 'es: ', A[0])\n",
    "print(' ')\n",
    "print('El quinto elemento en', A, 'es: ', A[4])\n",
    "print(' ')\n",
    "print('El último elemento en', A, 'es: ', A[9])"
   ]
  },
  {
   "cell_type": "code",
   "execution_count": null,
   "metadata": {},
   "outputs": [],
   "source": []
  },
  {
   "cell_type": "markdown",
   "metadata": {},
   "source": [
    "### 2.-  Números enteros: $integer$ "
   ]
  },
  {
   "cell_type": "code",
   "execution_count": null,
   "metadata": {},
   "outputs": [],
   "source": [
    "numero_i = 10\n",
    "\n",
    "print('numero_i es del tipo integer o entero')\n",
    "print(numero_i)\n",
    "print(type(numero_i))"
   ]
  },
  {
   "cell_type": "markdown",
   "metadata": {},
   "source": [
    "### 3.-  Números de punto flotante: $float$"
   ]
  },
  {
   "cell_type": "code",
   "execution_count": null,
   "metadata": {},
   "outputs": [],
   "source": [
    "numero_f = 3.1416\n",
    "\n",
    "print('numero_f es del tipo float o de punto flotante')\n",
    "print(numero_f)\n",
    "print(type(numero_f))"
   ]
  },
  {
   "cell_type": "code",
   "execution_count": null,
   "metadata": {},
   "outputs": [],
   "source": [
    "# Las variables tienen diferentes formas de interactuar entre si, según el tipo \n",
    "# de dato que sea, por ej los integer y float se pueden operar matemáticamente\n",
    "\n",
    "print('Suma del numero_f + numero_i')\n",
    "print(numero_f + numero_i)"
   ]
  },
  {
   "cell_type": "markdown",
   "metadata": {},
   "source": [
    "### 4.-  Booleanos ($boolean$), se escriben con mayúscula al principio ($True$ y $False$) "
   ]
  },
  {
   "cell_type": "code",
   "execution_count": null,
   "metadata": {},
   "outputs": [],
   "source": [
    "verdadero = True\n",
    "falso = False\n",
    "\n",
    "print('Variables verdadero y falso dan salidas del tipo boolean')\n",
    "print(verdadero)\n",
    "print(falso)"
   ]
  },
  {
   "cell_type": "markdown",
   "metadata": {},
   "source": [
    "## STRINGS\n",
    "### Los $strings$ (de palabra reservada \"$str$\")  son variables conformadas por cadenas de caracteres alfanuméricos que se definen entre comillas simples $'\\:'$ o comillas dobles $\"\\:\"$. Los strings a su vez pueden  definirse dentro de variables, listas, tuplas, conjuntos.  "
   ]
  },
  {
   "cell_type": "code",
   "execution_count": null,
   "metadata": {},
   "outputs": [],
   "source": [
    "# string escrito entre comillas simples\n",
    "\n",
    "'hola mundo'"
   ]
  },
  {
   "cell_type": "code",
   "execution_count": null,
   "metadata": {},
   "outputs": [],
   "source": [
    "# string escrito entre comillas dobles, el imput se escribió entre comilas dobes, \n",
    "# pero el output sale entre comillas simples\n",
    "\n",
    "\"hola rafa\""
   ]
  },
  {
   "cell_type": "code",
   "execution_count": null,
   "metadata": {},
   "outputs": [],
   "source": [
    "# Podemos agregar un salto de renglón en los strings usando triples comillas dobles o simples\n",
    "\n",
    "print(\"\"\"Con triple comilla doble\n",
    "damos salto de renglón\"\"\")\n",
    "print('')\n",
    "print('''Con triple comilla simple\n",
    "también damos salto de renglón''')"
   ]
  },
  {
   "cell_type": "code",
   "execution_count": null,
   "metadata": {},
   "outputs": [],
   "source": [
    "# Salto de renglón en cadena de caracteres usando \\n\n",
    "\n",
    "print('También podemos dar salto de renglón \\n con una diagonal acompañada de la letra n')"
   ]
  },
  {
   "cell_type": "code",
   "execution_count": null,
   "metadata": {
    "scrolled": true
   },
   "outputs": [],
   "source": [
    "# Asignar strings a variables y concatenarlas: \n",
    "\n",
    "uno = 'Primera parte de la cadena'\n",
    "dos = 'segunda parte de la cadena'\n",
    "\n",
    "# Concatenación llamando ambas strings separados por una coma:\n",
    "\n",
    "print(uno,dos)\n",
    "print('')\n",
    "# Concatenación con el símbolo \"+\". Si nos ponemos más específicos, en este caso estamos concatenando\n",
    "# dos strings,  mas dos strings en blanco, mas dos variables que contienen un string cada una:\n",
    "\n",
    "print('Concatenamos la' + ' ' + uno + ' con la' + ' ' + dos)"
   ]
  },
  {
   "cell_type": "markdown",
   "metadata": {},
   "source": [
    "### Se pueden concatenar variables de tipo $str$ con otras variables del mismo tipo o numéricas. \n",
    "### Separando las variables a concatenar con un $+$:"
   ]
  },
  {
   "cell_type": "code",
   "execution_count": null,
   "metadata": {},
   "outputs": [],
   "source": [
    "p = 'Rafael'\n",
    "print('Hola, mi nombre es '+ p)"
   ]
  },
  {
   "cell_type": "markdown",
   "metadata": {},
   "source": [
    "### Usando $f$ antes de el string, dentro del string se coloca la variable a printar entre llaves {}, puede ser una variable de cualquier tipo:"
   ]
  },
  {
   "cell_type": "code",
   "execution_count": 2,
   "metadata": {},
   "outputs": [
    {
     "name": "stdout",
     "output_type": "stream",
     "text": [
      "Introduce tu edad: 18\n",
      "y tengo 18.0 años\n"
     ]
    }
   ],
   "source": [
    "edad = float(input('Introduce tu edad: '))\n",
    "print(f'y tengo {edad} años')"
   ]
  },
  {
   "cell_type": "markdown",
   "metadata": {},
   "source": [
    "### MÉTODOS EN LOS STRINGS:\n",
    "### Los $métodos$ son funciones con las cuales podemos interactuar con los elementos de los strings, los métodos más comunes y sus acciones son\n",
    "### $mistring.upper(\\:)$, devuelve os caracteres del string en $MAYÚSCULAS$\n",
    "### $mistring.lower(\\:)$, devuelve os caracteres del string en $minúsculas$\n",
    "### $mistring.count('a')$, cuenta y devuelve el número de elementos 'a' del string\n",
    "### $mistring.replace('a',\\:'b')$, reemplaza todos los elementos 'a' por el elemento 'b'\n",
    "### $mistring.strip(\\:)$, "
   ]
  },
  {
   "cell_type": "code",
   "execution_count": null,
   "metadata": {},
   "outputs": [],
   "source": [
    "# Creamos un la variable \"prueba_string\" y aplicamos los metos anteriores:\n",
    "\n",
    "prueba_string = '                         EnTrE LoS LiBrOs De La BuEnA mEmOrIa'\n",
    "print(prueba_string)"
   ]
  },
  {
   "cell_type": "code",
   "execution_count": null,
   "metadata": {},
   "outputs": [],
   "source": [
    "print('Cambiamos a MAYÚSCULAS los caracteres de prueba_string:')\n",
    "print(' ')\n",
    "print(prueba_string.upper())"
   ]
  },
  {
   "cell_type": "code",
   "execution_count": null,
   "metadata": {},
   "outputs": [],
   "source": [
    "print('Cambiamos a minúsculas los caracteres de prueba_string:')\n",
    "print(' ')\n",
    "print(prueba_string.lower())"
   ]
  },
  {
   "cell_type": "code",
   "execution_count": null,
   "metadata": {},
   "outputs": [],
   "source": [
    "print('Contamos cuántos caracteres e y E hay en prueba_string:')\n",
    "print(' ')\n",
    "print('Número de caracteres e en prueba_string: ', prueba_string.count('e'))\n",
    "print(' ')\n",
    "print('Número de caracteres E en prueba_string: ', prueba_string.count('E'))"
   ]
  },
  {
   "cell_type": "code",
   "execution_count": null,
   "metadata": {},
   "outputs": [],
   "source": [
    "print('Reemplazamos el caracter E por 3:')\n",
    "print(prueba_string.replace('E', '3'))"
   ]
  },
  {
   "cell_type": "code",
   "execution_count": null,
   "metadata": {},
   "outputs": [],
   "source": [
    "print('Eliminamos los espacios antes y después prueba_string')\n",
    "print(prueba_string.strip())"
   ]
  },
  {
   "cell_type": "markdown",
   "metadata": {},
   "source": [
    "## INDEXACIÓN O ÍNDICES: \n",
    "### Los caracteres que están contenidos en una variable del tipo string tienen un $lugar$ o $índice$ que los identifica, estos índices dependen del número de caracteres. Por ejemplo, una variable de 10 caracteres tendrá 10 índices individuales, como se muestra en el siguiente ejemplo: "
   ]
  },
  {
   "cell_type": "code",
   "execution_count": null,
   "metadata": {},
   "outputs": [],
   "source": [
    "# Se define la variable string1, la cual consta de 10 caracteres con 10 índices individuales como se muestra:  \n",
    "\n",
    "string1 = 'ABCDEFGHIJ'\n",
    "print('Elemento 1, de índice 0: ', string1[0])\n",
    "print('Elemento 2, de índice 1: ', string1[1])\n",
    "print('Elemento 3, de índice 2: ', string1[2])\n",
    "print('Elemento 4, de índice 3: ', string1[3])\n",
    "print('Elemento 5, de índice 4: ', string1[4])\n",
    "print('Elemento 6, de índice 5: ', string1[5])\n",
    "print('Elemento 7, de índice 6: ', string1[6])\n",
    "print('Elemento 8, de índice 7: ', string1[7])\n",
    "print('Elemento 9, de índice 8: ', string1[8])\n",
    "print('Elemento 10, de índice 9: ', string1[9])"
   ]
  },
  {
   "cell_type": "code",
   "execution_count": null,
   "metadata": {
    "scrolled": true
   },
   "outputs": [],
   "source": [
    "print('Caracteres de la variable string1: ' + string1)\n",
    "print('Caracteres entre los índices 0 al 5: ' + string1[0:5])\n",
    "print('Caracteres entre los índices 0 al 9: ' + string1[0:9])\n",
    "print('Caracteres entre los índices 3 al 9: ' + string1[3:9])"
   ]
  },
  {
   "cell_type": "markdown",
   "metadata": {},
   "source": [
    "### El comando $len$ nos dice la longitud de la variable, que puede ser de cualquier tipo ($string$, $float$, $integer$, $array$, etc.), el comando $type$ nos dice el tipo de variable ($clase$):\n"
   ]
  },
  {
   "cell_type": "code",
   "execution_count": null,
   "metadata": {},
   "outputs": [],
   "source": [
    "print(len(dos)) # número de elementos que conforman el string \"dos\"\n",
    "print(type(dos)) # nos dice el tipo de dato (clase) de la variable \"dos\""
   ]
  },
  {
   "cell_type": "markdown",
   "metadata": {},
   "source": [
    "## LISTAS\n",
    "### Las $listas$ son variables que se definen con un conjunto de elementos, que pueden ser de uno o varios tipos ($str$, $float$, $int$) y se definen entre corchetes $[\\:]$. Una de las características es que sus elementos no son inmutables como las tuplas."
   ]
  },
  {
   "cell_type": "code",
   "execution_count": null,
   "metadata": {},
   "outputs": [],
   "source": [
    "# Definimos dos listas con diferentes dados de diferentes tipos\n",
    "\n",
    "lista1 = [1,2,3.1416,'Rafa']\n",
    "lista2 = [4,5,-6,'Juanmix']\n",
    "\n",
    "lista3 = [lista1[0], lista2[0]]\n",
    "print(lista3)"
   ]
  },
  {
   "cell_type": "code",
   "execution_count": null,
   "metadata": {},
   "outputs": [],
   "source": [
    "# Como se observa, las \"listas\" contienen diferentes tipos de datos, como en las \"strings\"\n",
    "# cada dato ocupa un espacio en específico (índice)\n",
    "\n",
    "print(lista1)\n",
    "print(lista2)"
   ]
  },
  {
   "cell_type": "code",
   "execution_count": null,
   "metadata": {},
   "outputs": [],
   "source": [
    "# Concatenar listas, siguen el orden en que se llaman a printar \n",
    "\n",
    "print(lista1 + lista2)\n",
    "print(lista2 + lista1)"
   ]
  },
  {
   "cell_type": "code",
   "execution_count": null,
   "metadata": {},
   "outputs": [],
   "source": [
    "# Las listas no son inmutables como las tuplas, asignamos nuevos valores a los datos contenidos\n",
    "# en los índices número 2, (los ínidices se cuentan a partir del número 0):\n",
    "\n",
    "lista1[2] = 31416\n",
    "lista2[2] = 600\n",
    "\n",
    "# Listas concatenadas con nuevos valores asignados en la posición 2: \n",
    "\n",
    "print(lista1 + lista2)\n",
    "print(lista2 + lista1)"
   ]
  },
  {
   "cell_type": "code",
   "execution_count": null,
   "metadata": {},
   "outputs": [],
   "source": [
    "# Agregar valores con función \"append\"\n",
    "\n",
    "lista1.append('otro valor')\n",
    "\n",
    "print(lista1)\n",
    "print(lista1 + lista2)\n",
    "print(lista2 + lista1)"
   ]
  },
  {
   "cell_type": "code",
   "execution_count": null,
   "metadata": {},
   "outputs": [],
   "source": [
    "# Listas \"anidadas\", listas dentro de una lista madre\n",
    "\n",
    "primera = [6,5]\n",
    "segunda = ['a','b','c']\n",
    "tercera = ['juanmi','rafa']\n",
    "anidadas = [primera, segunda, tercera]\n",
    "\n",
    "print(anidadas)"
   ]
  },
  {
   "cell_type": "code",
   "execution_count": null,
   "metadata": {},
   "outputs": [],
   "source": [
    "# Printar elementos específicos dentro de la lista madre\n",
    "\n",
    "print(anidadas[0])\n",
    "print(anidadas[1])\n",
    "print(anidadas[2])"
   ]
  },
  {
   "cell_type": "code",
   "execution_count": null,
   "metadata": {},
   "outputs": [],
   "source": [
    "# Printar elementos especícicos dentro de las listas anidadas se usa \"[][]\" NO -> \"[ , ]\" porque no es un array\n",
    "\n",
    "print(anidadas[0][0])\n",
    "print(anidadas[1][2])\n",
    "print(anidadas[2][1])"
   ]
  },
  {
   "cell_type": "markdown",
   "metadata": {},
   "source": [
    "### MÉTODOS EN LAS LISTAS:\n",
    "### Los $métodos$ son funciones con las cuales podemos interactuar o editar nuestras listas, con estos podemos agregar o remover elementos, devolver los elementos de la lista en reversa o de forma aleatoria, etc. Los métodos más comunes son:\n",
    "### $lista.index(a)$, obtenemos el índice del elemento \"a\" en la lista\n",
    "### $lista.count(a)$, cuenta cuantos elementos \"a\" tiene la lista\n",
    "### $del(lista[0:1])$ o $lista.pop(i)$, eliminan los elementos en los índices especificados de la lista\n",
    "### $lista.reverse(\\:)$, devuelve los elementos de la lista en reversa\n",
    "### $lista.sort(\\:)$, ordena alfabética o numéricamente los elementos de la lista (deben ser del mismo tipo)."
   ]
  },
  {
   "cell_type": "code",
   "execution_count": null,
   "metadata": {},
   "outputs": [],
   "source": [
    "lista_ejemplo = [20, 'Martiux', 28, 'Rafa', 26, 'Canelo', 3, 'Rafa']\n",
    "print(lista_ejemplo)"
   ]
  },
  {
   "cell_type": "code",
   "execution_count": null,
   "metadata": {},
   "outputs": [],
   "source": [
    "print('Índice del elemento Rafa en lista_ejemplo: ', lista_ejemplo.index('Rafa'))"
   ]
  },
  {
   "cell_type": "code",
   "execution_count": null,
   "metadata": {},
   "outputs": [],
   "source": [
    "print('Cuantos elementos Rafa tiene la lista_ejemplo: ', lista_ejemplo.count('Rafa'))"
   ]
  },
  {
   "cell_type": "code",
   "execution_count": null,
   "metadata": {},
   "outputs": [],
   "source": [
    "print('Eliminamos el elemento Martiux de lista1: ', lista_ejemplo.pop(1))\n",
    "print(lista_ejemplo)"
   ]
  },
  {
   "cell_type": "code",
   "execution_count": 1,
   "metadata": {},
   "outputs": [
    {
     "name": "stdout",
     "output_type": "stream",
     "text": [
      "lista_ej2 ordenada:  [0.005, 3.1416, 7, 7, 8, 58, 88.9, 99]\n",
      " \n",
      "lista_ej3 ordenada:  ['Aproximación', 'Hoja', 'Luz', 'Salto', 'Árbol']\n"
     ]
    }
   ],
   "source": [
    "lista_ej2 = [7,8,3.1416,58,.005,7,99,88.9]\n",
    "\n",
    "lista_ej3 = ['Árbol', 'Hoja', 'Salto', 'Luz', 'Aproximación']\n",
    "\n",
    "lista_ej2.sort()\n",
    "lista_ej3.sort()\n",
    "print('lista_ej2 ordenada: ', lista_ej2)\n",
    "print(' ')\n",
    "print('lista_ej3 ordenada: ', lista_ej3)"
   ]
  },
  {
   "cell_type": "code",
   "execution_count": null,
   "metadata": {},
   "outputs": [],
   "source": []
  }
 ],
 "metadata": {
  "kernelspec": {
   "display_name": "Python 3",
   "language": "python",
   "name": "python3"
  },
  "language_info": {
   "codemirror_mode": {
    "name": "ipython",
    "version": 3
   },
   "file_extension": ".py",
   "mimetype": "text/x-python",
   "name": "python",
   "nbconvert_exporter": "python",
   "pygments_lexer": "ipython3",
   "version": "3.7.3"
  }
 },
 "nbformat": 4,
 "nbformat_minor": 2
}

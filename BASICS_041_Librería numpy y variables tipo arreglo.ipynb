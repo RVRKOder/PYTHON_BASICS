{
 "cells": [
  {
   "cell_type": "markdown",
   "metadata": {},
   "source": [
    "<center><h1> 04.- VARIABLES DE TIPO ARRAY Y LIBRERÍA NUMPY </h1></center>\n",
    "\n",
    "Las variables de tipo $array$, son una estructura de datos que consiste de filas o vectores que contienen cierto número de elementos. A diferencia de las listas, todos los elementos de un array son del mismo tipo, generalmente numérico entero ($integer$) o decimal ($float$).\n",
    "\n",
    "Para el manejo de este tipo de variables se utiliza la librería $numpy$, la cual cuenta con múltiples funcionalidades desde operaciones básicas de edición hasta operaciones para el álgebra lineal."
   ]
  },
  {
   "cell_type": "code",
   "execution_count": 1,
   "metadata": {},
   "outputs": [],
   "source": [
    "# Primero necesitamos llamar o \"importar\" nuestro módulo, lo hacemos mediante la instrucción \n",
    "# \"import\" y lo renombramos como \"np\", esto para facilitar el uso dentro del código:\n",
    "import numpy as np"
   ]
  },
  {
   "cell_type": "markdown",
   "metadata": {},
   "source": [
    "<h2> ¿Cómo se crea un array? </h2>\n",
    "\n",
    "1. Se define la función \"$np.array(\\:)$\" osea \"del módulo numpy a una variable usar la funcion array\" a una variable. \n",
    "2. Se define la colección de elementos entre corchetes: $[e_1,\\:e_2,\\: \\ldots \\:e_n]$"
   ]
  },
  {
   "cell_type": "code",
   "execution_count": 2,
   "metadata": {},
   "outputs": [
    {
     "name": "stdout",
     "output_type": "stream",
     "text": [
      "[1 2 3]\n",
      "<class 'numpy.ndarray'>\n"
     ]
    }
   ],
   "source": [
    "# Array de tres elementos, matriz de 1 fila por 3 columnas:\n",
    "ar1x3 = np.array([1, 2, 3])\n",
    "\n",
    "# Printamos la variable \"ar1x3\" \n",
    "print(ar1x3)\n",
    "\n",
    "# Llamamos el tipo de dato que es:\n",
    "print(type(ar1x3))"
   ]
  },
  {
   "cell_type": "markdown",
   "metadata": {},
   "source": [
    "<h3> Tipos de dato para definir arrays: </h3>\n",
    "\n",
    "Algunas veces es necesario especificar el tipo de dato de los elementos del array, por ej. el tipo de número, ya sean $int$, $float$ o $complex$. Esto se realiza mediante la función \"$dtype=$\" a la derecha del array."
   ]
  },
  {
   "cell_type": "code",
   "execution_count": 3,
   "metadata": {},
   "outputs": [
    {
     "name": "stdout",
     "output_type": "stream",
     "text": [
      "[1 2 3]\n"
     ]
    }
   ],
   "source": [
    "# Creamos un array de 1x3 que contiene números enteros, pero no se especifica el tipo:\n",
    "array_normal = np.array([1,2,3])\n",
    "print(array_normal)"
   ]
  },
  {
   "cell_type": "code",
   "execution_count": 4,
   "metadata": {},
   "outputs": [
    {
     "name": "stdout",
     "output_type": "stream",
     "text": [
      "[1 2 4]\n"
     ]
    }
   ],
   "source": [
    "# Utilizamos el mismo array especificando el tipo \"integer\":\n",
    "array_entero = np.array([1.0, 2.0, 4.0], dtype=int)\n",
    "print(array_entero)"
   ]
  },
  {
   "cell_type": "code",
   "execution_count": 5,
   "metadata": {},
   "outputs": [
    {
     "name": "stdout",
     "output_type": "stream",
     "text": [
      "[1.     2.     3.1416]\n"
     ]
    }
   ],
   "source": [
    "# Utilizamos el mismo array especificando el tipo \"float\":\n",
    "array_decimal = np.array([1, 2, 3.1416], dtype=float)\n",
    "print(array_decimal)"
   ]
  },
  {
   "cell_type": "code",
   "execution_count": 6,
   "metadata": {},
   "outputs": [
    {
     "name": "stdout",
     "output_type": "stream",
     "text": [
      "[1.    +0.j 2.    +3.j 3.1416+0.j]\n"
     ]
    }
   ],
   "source": [
    "# Utilizamos el mismo array especificando el tipo \"complex\":\n",
    "array_complejo = np.array([1, 2+3j, 3.1416], dtype=complex)\n",
    "print(array_complejo)"
   ]
  },
  {
   "cell_type": "markdown",
   "metadata": {},
   "source": [
    "<h3> Arreglos de arreglos: </h3>\n",
    "\n",
    "Para hacer arrays del tipo $2x2$, $3x3$, $4x4$, etc. solo hace falta agregar más colecciones con la misma cantidad de elementos.  \n",
    "\n",
    "Un array de $mxn$ es una colección de dos o más colecciones de elementos: \n",
    "\n",
    "$[\\:[e_1, \\:e_2,\\: \\ldots \\:e_n]_1,\\:[e_1,\\:e_2,\\: \\ldots \\:e_n]_2,\\: \\ldots \\:[e_1,\\:e_2,\\: \\ldots \\:e_n]_n\\:]$ "
   ]
  },
  {
   "cell_type": "code",
   "execution_count": 7,
   "metadata": {},
   "outputs": [
    {
     "name": "stdout",
     "output_type": "stream",
     "text": [
      "Array 2x2\n",
      "[[1 2]\n",
      " [2 3]]\n",
      "-\n",
      "Array 3x3\n",
      "[[1 2 3]\n",
      " [5 7 8]\n",
      " [7 8 9]]\n",
      "-\n",
      "Array 4x4\n",
      "[[ 1  2  3  4]\n",
      " [ 5  6  7  8]\n",
      " [ 9 10 11 12]\n",
      " [13 14 15 16]]\n"
     ]
    }
   ],
   "source": [
    "# Arrays de 2x2, 3x3 y 4x4 elementos:\n",
    "\n",
    "ar2x2 = np.array([[1, 2], [2, 3]])     #los arrays de múltiples filas se pueden escribir de forma lineal\n",
    "\n",
    "ar3x3 = np.array([[1, 2, 3],           # o situando cada fila debajo de la anterior\n",
    "                  [5, 7, 8], \n",
    "                  [7, 8, 9]])\n",
    "\n",
    "ar4x4 = np.array([[ 1,  2,  3,  4], \n",
    "                  [ 5,  6,  7,  8],    # no importan los saltos de renglon, los elemtos del array se definen\n",
    "                  [ 9, 10, 11, 12],    # entre los paréntesis de la instrucción \"np.array()\"\n",
    "                  [13, 14, 15, 16]])\n",
    "\n",
    "print('Array 2x2')\n",
    "print(ar2x2)\n",
    "print('-')\n",
    "print('Array 3x3')\n",
    "print(ar3x3)\n",
    "print('-')\n",
    "print('Array 4x4')\n",
    "print(ar4x4)"
   ]
  },
  {
   "cell_type": "markdown",
   "metadata": {},
   "source": [
    "<h3> Columnas de datos: </h3>\n",
    "\n",
    "Una $columna$ es un concepto ampliamente utilizado en el álgebra lineal, un array es un arreglo de datos del tipo $mxn$ donde $n$ define el número de columnas. Si se necesita crear una matriz de dimención $1xn$ (una columna de $n$ elementos) se puede hacer de las dos formas siguientes:\n",
    "\n",
    "Definiendo cada elemento de la columna dentro de su colección:  \n",
    "\n",
    "$[\\:[c_1], \\:[c_2],\\: \\ldots \\:[c_n]\\:]$"
   ]
  },
  {
   "cell_type": "code",
   "execution_count": 8,
   "metadata": {},
   "outputs": [
    {
     "name": "stdout",
     "output_type": "stream",
     "text": [
      "[[1]\n",
      " [2]\n",
      " [3]]\n"
     ]
    }
   ],
   "source": [
    "mat_col = np.array([ [1], [2], [3] ]) # prestar especial atención a como se definen los elementos \n",
    "\n",
    "print(mat_col)"
   ]
  },
  {
   "cell_type": "markdown",
   "metadata": {},
   "source": [
    "<h3> La función $transpose$ </h3>\n",
    "\n",
    "Definiendo una colección global con los elementos de la columna dentro del array: $[\\:[c_1,\\:c_2,\\: \\ldots \\:c_n]\\:]$ y usando la función \"$np.transpose(\\:)$\" se genera una nueva variable con la matriz transpuesta."
   ]
  },
  {
   "cell_type": "code",
   "execution_count": 9,
   "metadata": {
    "scrolled": true
   },
   "outputs": [
    {
     "name": "stdout",
     "output_type": "stream",
     "text": [
      "[[ 4]\n",
      " [ 5]\n",
      " [10]]\n"
     ]
    }
   ],
   "source": [
    "mat_col2 = np.array([ [4, 5, 10] ]) # prestar especial atención a como se definen los elementos \n",
    "\n",
    "mat_col2_trans = np.transpose(mat_col2)\n",
    "\n",
    "print(mat_col2_trans)"
   ]
  },
  {
   "cell_type": "markdown",
   "metadata": {},
   "source": [
    "<h3> Arrays a partir de otros tipos de datos: </h3>\n",
    "\n",
    "Dado que $los \\:arrays$ en escencia $son \\:colecciones \\:de \\:elementos$ también se pueden crear a partir de variables que sean colecciones, como las $listas$ o las $tuplas$, estas últimas son variables inmutables, pero al utilizarlas para crear una nueva variable de tipo array adquieren las propiedades de los arreglos:"
   ]
  },
  {
   "cell_type": "code",
   "execution_count": 10,
   "metadata": {},
   "outputs": [
    {
     "name": "stdout",
     "output_type": "stream",
     "text": [
      "ar1:  [12 15  5]\n",
      "ar2:  [6 8 7]\n",
      "ar3:  [0 1 1]\n"
     ]
    }
   ],
   "source": [
    "# Definimos tres variables, las cuales tienen las mismas dimenciones 1x3,\n",
    "# una fila de tres elementos:\n",
    "\n",
    "ar1 = np.array([12, 15, 5])\n",
    "ar2 = np.array([6, 8, 7])\n",
    "ar3 = np.array([0, 1, 1])\n",
    "\n",
    "print('ar1: ', ar1)\n",
    "print('ar2: ', ar2)\n",
    "print('ar3: ', ar3)"
   ]
  },
  {
   "cell_type": "code",
   "execution_count": 11,
   "metadata": {},
   "outputs": [
    {
     "name": "stdout",
     "output_type": "stream",
     "text": [
      "ar123:\n",
      "[[12 15  5]\n",
      " [ 6  8  7]\n",
      " [ 0  1  1]]\n",
      "<class 'numpy.ndarray'>\n"
     ]
    }
   ],
   "source": [
    "# Creamos una nueva variable de tipo array (ar123) de dimenciones 3x3\n",
    "# (3 filas de tres elementos) a partir de los arrays anteriores: \n",
    "\n",
    "ar123 = np.array([ar1, ar2, ar3])\n",
    "\n",
    "print('ar123:')\n",
    "print(ar123)\n",
    "print(type(ar123))"
   ]
  },
  {
   "cell_type": "code",
   "execution_count": 12,
   "metadata": {},
   "outputs": [
    {
     "name": "stdout",
     "output_type": "stream",
     "text": [
      "[[1 1 1]\n",
      " [2 4 6]]\n",
      "<class 'numpy.ndarray'>\n"
     ]
    }
   ],
   "source": [
    "# Creamos una variable de tipo lista y un array unidimencional de tres elementos:\n",
    "\n",
    "lis_ej = [2,4,6]\n",
    "\n",
    "ar_ej = np.array([1,1,1])\n",
    "\n",
    "# Creamos un nuevo array juntando ar_ej y lis_ej:\n",
    "\n",
    "ar2_ej = np.array([ar_ej, lis_ej])\n",
    "\n",
    "print(ar2_ej)\n",
    "print(type(ar2_ej))"
   ]
  },
  {
   "cell_type": "code",
   "execution_count": 13,
   "metadata": {},
   "outputs": [
    {
     "name": "stdout",
     "output_type": "stream",
     "text": [
      "[[2 4 6]\n",
      " [2 4 6]]\n",
      "<class 'numpy.ndarray'>\n"
     ]
    }
   ],
   "source": [
    "# Creamos una variable de tipo tupla y un array unidimencional de tres elementos:\n",
    "\n",
    "tup_ej = (2,4,6)\n",
    "\n",
    "ar3_ej = np.array([2,4,6])\n",
    "\n",
    "# Creamos un nuevo array juntando ar_ej y lis_ej:\n",
    "\n",
    "ar4_ej = np.array([ar3_ej, tup_ej])\n",
    "\n",
    "print(ar4_ej)\n",
    "print(type(ar4_ej))"
   ]
  },
  {
   "cell_type": "markdown",
   "metadata": {},
   "source": [
    "<h3> Reglas de indexación de colecciones: </h3>\n",
    "\n",
    "Una de las $ventajas$ de los arreglos es que $se \\:puede \\:operar \\:con \\:elementos \\:específicos$ de las colecciones, solo se debe tener especial cuidado de seguir la $regla \\:de \\:indexación$. \n",
    "\n",
    "Para operar filas en específico se hace referencia a ellas mediante la forma $A[i]$ osea \"fila $i$ de la matriz $A$\"."
   ]
  },
  {
   "cell_type": "code",
   "execution_count": 14,
   "metadata": {},
   "outputs": [
    {
     "name": "stdout",
     "output_type": "stream",
     "text": [
      "Segunda fila de la variable ar2x2\n",
      "[2 3]\n",
      "Tercera fila de la variable ar3x3\n",
      "[7 8 9]\n",
      "Primer fila de la variable ar4x4\n",
      "[1 2 3 4]\n"
     ]
    }
   ],
   "source": [
    "# De los arreglos ar2x2, ar3x3 y ar4x4\n",
    "\n",
    "print('Segunda fila de la variable ar2x2')\n",
    "print(ar2x2[1])\n",
    "print('Tercera fila de la variable ar3x3')\n",
    "print(ar3x3[2])\n",
    "print('Primer fila de la variable ar4x4')\n",
    "print(ar4x4[0])"
   ]
  },
  {
   "cell_type": "markdown",
   "metadata": {},
   "source": [
    "<h3> Reglas de indexación de elementos dentro de las colecciones: </h3>\n",
    "\n",
    "Para operar con un elemento en específico dentro de una fila lo invocamos de la forma $A[i][j]$ o \"elemento $j$ de la fila $i$ de la matriz $A$\"."
   ]
  },
  {
   "cell_type": "code",
   "execution_count": 15,
   "metadata": {},
   "outputs": [
    {
     "name": "stdout",
     "output_type": "stream",
     "text": [
      "Primer elemento de ar1x3\n",
      "1\n",
      "Segundo elemento de ar1x3\n",
      "2\n",
      "Tercer elemento de ar1x3\n",
      "3\n",
      "Segundo elemento de la segunda fila de la variable ar2x2\n",
      "3\n",
      "Primer elemento de la tercera fila de la variable ar3x3\n",
      "7\n",
      "Tercer elemento de la primer fila de la variable ar4x4\n",
      "3\n"
     ]
    }
   ],
   "source": [
    "# Printamos individualmente los elementos del arreglo ar1x3\n",
    "\n",
    "print('Primer elemento de ar1x3')\n",
    "print(ar1x3[0])\n",
    "print('Segundo elemento de ar1x3')\n",
    "print(ar1x3[1])\n",
    "print('Tercer elemento de ar1x3')\n",
    "print(ar1x3[2])\n",
    "print('Segundo elemento de la segunda fila de la variable ar2x2')\n",
    "print(ar2x2[1][1])\n",
    "print('Primer elemento de la tercera fila de la variable ar3x3')\n",
    "print(ar3x3[2][0])\n",
    "print('Tercer elemento de la primer fila de la variable ar4x4')\n",
    "print(ar4x4[0][2])"
   ]
  },
  {
   "cell_type": "markdown",
   "metadata": {},
   "source": [
    "<h2> Arreglos especiales: </h2>\n",
    "\n",
    "Existen arrays especiales como la matriz de ceros, la matriz de unos, la matriz identidad, matrices vacías y matrices de números consecutivos en una dimensión. Estos arreglos se invocan mediante los comandos $ones$, $zeros$, $identity$, $empty$, $arrange$, etc.\n",
    "\n",
    "<h3> Matriz $zeros$: </h3>\n",
    "\n",
    "La matriz $zeros$ devuelve una variable de tipo array en la que todos sus elementos son ceros,  a esta matriz hay que especificar sus dimenciones $np.zeros((m,n))$ (filas x columnas):"
   ]
  },
  {
   "cell_type": "code",
   "execution_count": 16,
   "metadata": {},
   "outputs": [
    {
     "name": "stdout",
     "output_type": "stream",
     "text": [
      "Matriz zeros de tres filas y cuatro columnas:\n",
      "[[0. 0. 0. 0.]\n",
      " [0. 0. 0. 0.]\n",
      " [0. 0. 0. 0.]]\n"
     ]
    }
   ],
   "source": [
    "ceros = np.zeros((3,4))\n",
    "print('Matriz zeros de tres filas y cuatro columnas:')\n",
    "print(ceros)"
   ]
  },
  {
   "cell_type": "markdown",
   "metadata": {},
   "source": [
    "<h3> Matriz $ones$: </h3>\n",
    "\n",
    "La matriz $ones$ es similar a la matriz $zeros$, esta nos devolverá una variable de tipo array en la que todos sus elementos son unos, a esta matriz hay que especificar sus dimenciones $np.ones((m,n))$ (filas x columnas):  "
   ]
  },
  {
   "cell_type": "code",
   "execution_count": 17,
   "metadata": {},
   "outputs": [
    {
     "name": "stdout",
     "output_type": "stream",
     "text": [
      "Matriz unos de tres filas y cuatro columnas:\n",
      "[[1. 1. 1. 1.]\n",
      " [1. 1. 1. 1.]\n",
      " [1. 1. 1. 1.]]\n"
     ]
    }
   ],
   "source": [
    "unos = np.ones((3,4))\n",
    "print('Matriz unos de tres filas y cuatro columnas:')\n",
    "print(unos)"
   ]
  },
  {
   "cell_type": "markdown",
   "metadata": {},
   "source": [
    "<h3> Matriz $identity$: </h3>\n",
    "\n",
    "Con la matriz $identity$ se crean arrays con la propiedad de la $matriz \\:identidad$ (donde la diagonal principal se compone de unos), para esta solo debemos especificar una dimención pues es del tipo $nxn$ (el número de filas es igual al de columnas), se invoca con la función $np.identity(n)$:"
   ]
  },
  {
   "cell_type": "code",
   "execution_count": 18,
   "metadata": {},
   "outputs": [
    {
     "name": "stdout",
     "output_type": "stream",
     "text": [
      "Matriz identity de cuatro filas y cuatro columnas:\n",
      "[[1. 0. 0. 0.]\n",
      " [0. 1. 0. 0.]\n",
      " [0. 0. 1. 0.]\n",
      " [0. 0. 0. 1.]]\n"
     ]
    }
   ],
   "source": [
    "ident4 = np.identity(4)\n",
    "print('Matriz identity de cuatro filas y cuatro columnas:')\n",
    "print(ident4)"
   ]
  },
  {
   "cell_type": "markdown",
   "metadata": {},
   "source": [
    "<h3> Matriz $arange$: </h3>\n",
    "\n",
    "La matriz de tipo $arange$ crea un array de una dimención que consta de los elementos en secuencia desde un valor de inicio hasta un valor final y especificando un tamaño de salto, retornando los valores correspondientes a cada salto, existen dos formas de definir este tipo de arreglos:\n",
    "\n",
    "1. Invocando la función $np.arange(valor_i, \\:valor_f, \\:salto)$, de esta forma se tendrá un array unidimencional en el que se especifique el valor inicial y final de la secuencia y el valor de salto en el cual se retornaran los valores:"
   ]
  },
  {
   "cell_type": "code",
   "execution_count": 19,
   "metadata": {},
   "outputs": [
    {
     "name": "stdout",
     "output_type": "stream",
     "text": [
      "Arreglo de los elementos contenidos entre los índices 0 al 15, con saltos de uno en uno:\n",
      "[ 0  1  2  3  4  5  6  7  8  9 10 11 12 13 14]\n",
      "-\n",
      "Arreglo de los elementos contenidos entre los índices 0 al 10, con saltos de dos en dos:\n",
      "[0 2 4 6 8]\n"
     ]
    }
   ],
   "source": [
    "d1 = np.arange(0,15,1)\n",
    "\n",
    "d2 = np.arange(0,10,2)\n",
    "\n",
    "print('Arreglo de los elementos contenidos entre los índices 0 al 15, con saltos de uno en uno:')\n",
    "print(d1)\n",
    "print('-')\n",
    "print('Arreglo de los elementos contenidos entre los índices 0 al 10, con saltos de dos en dos:')\n",
    "print(d2)"
   ]
  },
  {
   "cell_type": "markdown",
   "metadata": {},
   "source": [
    "2. Invocando la función $np.arange(n).reshape(i,j)$ de esta forma se tendrá un array multidimencional de $n$ elementos que serán organizados a la forma $i_{filas}\\:x\\:j_{columnas}$:"
   ]
  },
  {
   "cell_type": "code",
   "execution_count": 20,
   "metadata": {},
   "outputs": [
    {
     "name": "stdout",
     "output_type": "stream",
     "text": [
      "Arreglo 2x5 de 10 elementos:\n",
      "[[0 1 2 3 4]\n",
      " [5 6 7 8 9]]\n",
      "-\n",
      "Arreglo 5x2 de 10 elementos:\n",
      "[[0 1]\n",
      " [2 3]\n",
      " [4 5]\n",
      " [6 7]\n",
      " [8 9]]\n"
     ]
    }
   ],
   "source": [
    "e1 = np.arange(10).reshape(2, 5)\n",
    "\n",
    "e2 = np.arange(10).reshape(5, 2)\n",
    "\n",
    "print('Arreglo 2x5 de 10 elementos:')\n",
    "print(e1)\n",
    "print('-')\n",
    "print('Arreglo 5x2 de 10 elementos:')\n",
    "print(e2)"
   ]
  },
  {
   "cell_type": "markdown",
   "metadata": {},
   "source": [
    "<h3> Matriz $linspace$: </h3>\n",
    "\n",
    "La matriz $linspace$ devuelve un array que extrae de un arreglo lineal de valores inicial a final un determinado número de valores que equidistan entre si, este array se invoca con la función: \n",
    "\n",
    "- $np.linspace(v_{inicio},\\:v_{final},\\:n)$:  "
   ]
  },
  {
   "cell_type": "code",
   "execution_count": 21,
   "metadata": {},
   "outputs": [
    {
     "name": "stdout",
     "output_type": "stream",
     "text": [
      "Array de tipo linspace que extrae 3 valores equidistantes del 0 al 10:\n",
      "[ 0.  5. 10.]\n",
      "-\n",
      "Array de tipo linspace que extrae 7 valores equidistantes del 0 al 5:\n",
      "[0.         0.83333333 1.66666667 2.5        3.33333333 4.16666667\n",
      " 5.        ]\n"
     ]
    }
   ],
   "source": [
    "ar_lin1 = np.linspace(0,10,3)\n",
    "\n",
    "ar_lin7 = np.linspace(0,5,7)\n",
    "\n",
    "print('Array de tipo linspace que extrae 3 valores equidistantes del 0 al 10:')\n",
    "print(ar_lin1)\n",
    "print('-')\n",
    "print('Array de tipo linspace que extrae 7 valores equidistantes del 0 al 5:')\n",
    "print(ar_lin7)"
   ]
  },
  {
   "cell_type": "markdown",
   "metadata": {},
   "source": [
    "<h3> Matriz $logspace$: </h3>\n",
    "\n",
    "La matriz $logspace$ devuelve un array que extrae de un arreglo logaritmico de valores inicial a final un determinado número de valores que equidistan entre si, este array se invoca con la función: \n",
    "\n",
    "- $np.logspace(\\text{exponente de la potencia_inicial}, \\text{exponente de la potencia_final}, \\:num=, \\:base=)$ "
   ]
  },
  {
   "cell_type": "code",
   "execution_count": 22,
   "metadata": {},
   "outputs": [
    {
     "name": "stdout",
     "output_type": "stream",
     "text": [
      "Array de tipo logspace que devuelve 10 valores del 0 al 1000 en log base 10:\n",
      "[   1.            2.15443469    4.64158883   10.           21.5443469\n",
      "   46.41588834  100.          215.443469    464.15888336 1000.        ]\n"
     ]
    }
   ],
   "source": [
    "# Creamos un arreglo logarítmico de 10 elementos del 0 al 1000\n",
    "ar_log1 = np.logspace(0, 3, num=10, base=10)\n",
    "\n",
    "print('Array de tipo logspace que devuelve 10 valores del 0 al 1000 en log base 10:')\n",
    "print(ar_log1)"
   ]
  },
  {
   "cell_type": "markdown",
   "metadata": {},
   "source": [
    "<h3> Matriz $full$: </h3>\n",
    "\n",
    "La matriz $full$ devuelve un array lineal de $i$ elementos de valor $n$, se invoca con la función: \n",
    "\n",
    "- $np.full(i,\\:n)$"
   ]
  },
  {
   "cell_type": "code",
   "execution_count": 23,
   "metadata": {},
   "outputs": [
    {
     "name": "stdout",
     "output_type": "stream",
     "text": [
      "[3.1416 3.1416 3.1416 3.1416 3.1416]\n"
     ]
    }
   ],
   "source": [
    "mat_full = np.full(5,3.1416)\n",
    "\n",
    "print(mat_full)"
   ]
  },
  {
   "cell_type": "markdown",
   "metadata": {},
   "source": [
    "<h3> Atributos de los Arrays: </h3>\n",
    "\n",
    "Llamando las siguientes funciones después de \"$.np$\" se pueden conocer los atributos de los arrays:\n",
    "\n",
    "- $ndim(\\:)$ devuelve el número de ejes\n",
    "- $shape(\\:)$ devuelve una tupla con las dimenciones $mxn$\n",
    "- $size(\\:)$ devuelve el número de elementos dentro del array \n",
    "\n",
    "Recuerde que los arrays tienen ejes o dimenciones de la siguiente forma:\n",
    "\n",
    "- 1 eje $A[m]$\n",
    "- 2 ejes $A[m\\:x\\:n]$ \n",
    "- 3 ejes $A[m\\:x\\:n\\:x\\:l]$"
   ]
  },
  {
   "cell_type": "code",
   "execution_count": 24,
   "metadata": {},
   "outputs": [
    {
     "name": "stdout",
     "output_type": "stream",
     "text": [
      "El número de ejes del array ar4x4 son:  2\n",
      " \n",
      "Las dimenciones mxn del array ar4x4 son:  (4, 4)\n",
      " \n",
      "El número de elementos del array ar4x4 son:  16\n"
     ]
    }
   ],
   "source": [
    "# Tomemos como ejemplo la matriz ar4x4 y apliquemos las funciones anteriores:\n",
    "\n",
    "print('El número de ejes del array ar4x4 son: ', ar4x4.ndim)\n",
    "print(' ')\n",
    "print('Las dimenciones mxn del array ar4x4 son: ', ar4x4.shape)\n",
    "print(' ')\n",
    "print('El número de elementos del array ar4x4 son: ', ar4x4.size)"
   ]
  },
  {
   "cell_type": "markdown",
   "metadata": {},
   "source": [
    "<h2> Operaciones con arrays </h2>\n",
    "\n",
    "Con las variables del tipo array se pueden realizar algunas operaciones que corresponden al álgebra lineal y al álgebra vectorial, como el producto escalar y el producto punto, además de suma, resta y multiplicación."
   ]
  },
  {
   "cell_type": "code",
   "execution_count": 25,
   "metadata": {},
   "outputs": [
    {
     "name": "stdout",
     "output_type": "stream",
     "text": [
      "matA dimenciones 3x3\n",
      "[[1 2 3]\n",
      " [4 5 6]\n",
      " [7 8 9]]\n",
      "-\n",
      "matB dimenciones 3x3\n",
      "[[ 2  4  6]\n",
      " [ 8 10 12]\n",
      " [14 16 18]]\n",
      "-\n",
      "matC dimenciones 2x3\n",
      "[[22.      2.     93.    ]\n",
      " [ 3.1416  5.5    50.    ]]\n",
      "-\n",
      "matD dimenciones 3x2\n",
      "[[22.      3.1416]\n",
      " [ 2.      5.5   ]\n",
      " [93.     50.    ]]\n",
      "-\n",
      "matE dimenciones 2x2\n",
      "[[ 2.   -2.  ]\n",
      " [-3.14  1.  ]]\n"
     ]
    }
   ],
   "source": [
    "matA = np.array([[1,2,3], [4,5,6], [7,8,9]])      # matriz 3x3\n",
    "\n",
    "matB = np.array([[2,4,6], [8,10,12], [14,16,18]]) # matriz 3x3\n",
    "\n",
    "matC = np.array([[22,2,93], [3.1416, 5.5, 50]])   # matriz 2x3\n",
    "\n",
    "matD = matC.T                                     # matriz 3x2 (transpuesta de matC)\n",
    "\n",
    "matE = np.array([[2, -2], [-3.14, 1]])            # matriz 2x2\n",
    "\n",
    "print('matA dimenciones 3x3')\n",
    "print(matA)\n",
    "print('-')\n",
    "print('matB dimenciones 3x3')\n",
    "print(matB)\n",
    "print('-')\n",
    "print('matC dimenciones 2x3')\n",
    "print(matC)\n",
    "print('-')\n",
    "print('matD dimenciones 3x2')\n",
    "print(matD)\n",
    "print('-')\n",
    "print('matE dimenciones 2x2')\n",
    "print(matE)"
   ]
  },
  {
   "cell_type": "markdown",
   "metadata": {},
   "source": [
    "<h3> Suma y resta de arreglos: </h3>\n",
    "\n",
    "Recordar que para realizar $sumas$ y $restas$ las matrices deben tener las mismas dimenciones:"
   ]
  },
  {
   "cell_type": "code",
   "execution_count": 27,
   "metadata": {},
   "outputs": [
    {
     "name": "stdout",
     "output_type": "stream",
     "text": [
      "Suma matA + matB:\n",
      "[[ 3  6  9]\n",
      " [12 15 18]\n",
      " [21 24 27]]\n",
      "-\n",
      "Resta matA - matB:\n",
      "[[-1 -2 -3]\n",
      " [-4 -5 -6]\n",
      " [-7 -8 -9]]\n"
     ]
    }
   ],
   "source": [
    "print('Suma matA + matB:')\n",
    "print(matA + matB)\n",
    "print('-')\n",
    "print('Resta matA - matB:')\n",
    "print(matA - matB)"
   ]
  },
  {
   "cell_type": "markdown",
   "metadata": {},
   "source": [
    "<h3> Multiplicación de arreglos: </h3>\n",
    "\n",
    "Para $multiplicar$ matrices se utiliza la función $np.dot(A,B)$. Recordar que siempre el número de columnas de la primera matriz debe ser igual al número de filas de la segunda \"A=axn y B=nxb\"  y que esta regla no es conmutativa para todos los casos, solo cuando ambas matrices son del tipo nxn:"
   ]
  },
  {
   "cell_type": "code",
   "execution_count": 28,
   "metadata": {},
   "outputs": [
    {
     "name": "stdout",
     "output_type": "stream",
     "text": [
      "El producto de matA de 3x3 por matB de 3x3:\n",
      "[[ 60  72  84]\n",
      " [132 162 192]\n",
      " [204 252 300]]\n"
     ]
    }
   ],
   "source": [
    "print('El producto de matA de 3x3 por matB de 3x3:')\n",
    "print(np.dot(matA, matB))"
   ]
  },
  {
   "cell_type": "code",
   "execution_count": 29,
   "metadata": {},
   "outputs": [
    {
     "name": "stdout",
     "output_type": "stream",
     "text": [
      "El producto de matD de 3x3 por matE de 2x2:\n",
      "[[  34.135376  -40.8584  ]\n",
      " [ -13.27        1.5     ]\n",
      " [  29.       -136.      ]]\n"
     ]
    }
   ],
   "source": [
    "print('El producto de matD de 3x3 por matE de 2x2:')\n",
    "print(np.dot(matD, matE))"
   ]
  },
  {
   "cell_type": "markdown",
   "metadata": {},
   "source": [
    "<h3> Multiplicación de arreglos de dimenciones diferentes: </h3>\n",
    "\n",
    "Producto de matrices de dimenciones diferentes, donde se respeta la regla que el número de columnas de la primera matriz es igual al número de filas de la segunda matriz:"
   ]
  },
  {
   "cell_type": "code",
   "execution_count": null,
   "metadata": {},
   "outputs": [],
   "source": [
    "print('El producto de matC de 3x2 por matA de 2x2:')\n",
    "print(np.dot(matC, matA))"
   ]
  },
  {
   "cell_type": "code",
   "execution_count": null,
   "metadata": {},
   "outputs": [],
   "source": [
    "print('El producto de matC de 2x3 por matA de 3x3:')\n",
    "print(np.dot(matC, matA))"
   ]
  },
  {
   "cell_type": "code",
   "execution_count": null,
   "metadata": {},
   "outputs": [],
   "source": [
    "print(matA)\n",
    "print(type(matA))\n",
    "\n",
    "print(matB)\n",
    "print(type(matB))"
   ]
  },
  {
   "cell_type": "code",
   "execution_count": null,
   "metadata": {},
   "outputs": [],
   "source": [
    "#matC = np.dot(matB,matA)\n",
    "matC = matB * matA\n",
    "\n",
    "print(matC)"
   ]
  }
 ],
 "metadata": {
  "kernelspec": {
   "display_name": "Python 3",
   "language": "python",
   "name": "python3"
  },
  "language_info": {
   "codemirror_mode": {
    "name": "ipython",
    "version": 3
   },
   "file_extension": ".py",
   "mimetype": "text/x-python",
   "name": "python",
   "nbconvert_exporter": "python",
   "pygments_lexer": "ipython3",
   "version": "3.7.3"
  }
 },
 "nbformat": 4,
 "nbformat_minor": 2
}

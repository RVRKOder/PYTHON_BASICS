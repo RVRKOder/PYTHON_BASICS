{
 "cells": [
  {
   "cell_type": "markdown",
   "metadata": {},
   "source": [
    "<center><h1> 05.- ESTRUCTURAS DE CONTROL </h1></center>\n",
    "\n",
    "Las $estructuras\\:de\\:control$ son instrucciones o estructuras que realizan cierta acción, siempre y cuando se cumpla o no cierta condición establecida (sean $True$ o $False$).\n",
    "\n",
    "<h2> Estructuras condicionales \"$if$ - $elif$ - $else$\": </h2>\n",
    "\n",
    "La estructura $if$ permite dividir el flujo del programa en base a una evaluación lógica definida por una condición y decidir qué acción ejecuta en base a la condición a cumplir. Normalmente esta estructura se acompaña de un $else$ para realizar una acción cuando no se cumpla la condición y uno o más $elif$ para cuando no se cumple una primera condición pero si una o más adicionales."
   ]
  },
  {
   "cell_type": "code",
   "execution_count": 2,
   "metadata": {},
   "outputs": [
    {
     "name": "stdout",
     "output_type": "stream",
     "text": [
      "Sentencia if solo entra con valor verdadero\n"
     ]
    }
   ],
   "source": [
    "# La sentencia \"if\" se ejecutará cuando la condición resulte en \"True\"\n",
    "\n",
    "if True:                                                 # Siempre poner \":\" despues de la sentencia\n",
    "    print('Sentencia if solo entra con valor verdadero') # Siempre indentar con un espacio tabular después de la sentencia"
   ]
  },
  {
   "cell_type": "code",
   "execution_count": 3,
   "metadata": {},
   "outputs": [],
   "source": [
    "# La sentencia \"if\" no se ejecuta cuando las condiciones resultan en \"False\"\n",
    "\n",
    "if False:\n",
    "    print('Sentencia if solo entra con valor verdadero') # No imprime porque la condición es \"False\""
   ]
  },
  {
   "cell_type": "code",
   "execution_count": 9,
   "metadata": {},
   "outputs": [
    {
     "ename": "SyntaxError",
     "evalue": "invalid syntax (<ipython-input-9-554e35eff62d>, line 8)",
     "output_type": "error",
     "traceback": [
      "\u001b[1;36m  File \u001b[1;32m\"<ipython-input-9-554e35eff62d>\"\u001b[1;36m, line \u001b[1;32m8\u001b[0m\n\u001b[1;33m    elif nombre = 18:\u001b[0m\n\u001b[1;37m                ^\u001b[0m\n\u001b[1;31mSyntaxError\u001b[0m\u001b[1;31m:\u001b[0m invalid syntax\n"
     ]
    }
   ],
   "source": [
    "# La sentencia \"else\" se cumple como una segunda condición, \n",
    "# normalmente en el caso contrario a la sentencia \"if\" \n",
    "\n",
    "nombre = float(input('Ingresa tu edad: '))             \n",
    "if nombre < 18:                                        # Primer condición o condición principal\n",
    "    print('Eres menor de edad, no puedes pasar')       # Instrucción correspondiente a primera condición\n",
    "    nombre = float(input('Ingresa una nueva edad: '))\n",
    "elif nombre = 18:                                      # Condición adicional al \"if\" principal\n",
    "    print('Eres adulto, bienvenido')                   # Instrucción correspondiente\n",
    "else:                                                  # Caso contrario al \"if\" principal\n",
    "    print('Eres adulto, bienvenido')                   # Instrucción correspondiente al \"else\""
   ]
  },
  {
   "cell_type": "code",
   "execution_count": 5,
   "metadata": {},
   "outputs": [
    {
     "name": "stdout",
     "output_type": "stream",
     "text": [
      "Número a: 75\n",
      "Número b: 3.1416\n",
      "a y b son diferentes\n",
      "a es mayor que b\n"
     ]
    }
   ],
   "source": [
    "# Estructura \"if\" encadenada o anidada (con una subestructura \"if\")\n",
    "\n",
    "a = float(input('Número a: '))      # al ingresar lo números por input  \n",
    "b = float(input('Número b: '))      # ... se printan durante la ejecución\n",
    "\n",
    "if a == b:\n",
    "    print('a y b son iguales')\n",
    "else:\n",
    "    print('a y b son diferentes')\n",
    "    if a > b:\n",
    "        print('a es mayor que b')\n",
    "    else:\n",
    "        print('a es menor que b')"
   ]
  },
  {
   "cell_type": "code",
   "execution_count": 6,
   "metadata": {},
   "outputs": [
    {
     "name": "stdout",
     "output_type": "stream",
     "text": [
      "Ingrese calificación: 10\n",
      "Eres un master\n"
     ]
    }
   ],
   "source": [
    "cal = float(input('Ingrese calificación: '))\n",
    "\n",
    "if cal <= 5:\n",
    "    print('Repites curso')\n",
    "elif cal == 5:\n",
    "    print('Presenta extraordinario')\n",
    "elif cal > 5 and cal <= 7:\n",
    "    print('Presenta ordinario')\n",
    "elif cal > 7 and cal <= 9:\n",
    "    print('Presenta ordinario a decisión')\n",
    "elif cal == 10:\n",
    "    print('Eres un master')"
   ]
  },
  {
   "cell_type": "markdown",
   "metadata": {},
   "source": [
    "<h3> Operadores ternarios: </h3>\n",
    "\n",
    "Un $operador$ $ternario$ sirve para evaluar si una expresión resulta $True$ o $False$ mediante una sola línea de código. Los operadores ternarios pueden usarse para resumir expresiones lógicas $if\\:elif\\:else$."
   ]
  },
  {
   "cell_type": "code",
   "execution_count": 5,
   "metadata": {},
   "outputs": [
    {
     "name": "stdout",
     "output_type": "stream",
     "text": [
      "No eres adulto\n"
     ]
    }
   ],
   "source": [
    "# Se tiene la siguiente expresión lógica \"if else\":\n",
    "edad = 14\n",
    "\n",
    "if (18 <= edad < 65):\n",
    "    print('Eres un adulto')\n",
    "else:\n",
    "    print('No eres adulto')"
   ]
  },
  {
   "cell_type": "code",
   "execution_count": 6,
   "metadata": {},
   "outputs": [
    {
     "name": "stdout",
     "output_type": "stream",
     "text": [
      "No eres adulto\n"
     ]
    }
   ],
   "source": [
    "# Se puede resumir mediante un operador ternario y guardarlo en una variable como sigue:\n",
    "mensaje = 'Eres un adulto' if 18 <= edad < 65 else 'No eres adulto'\n",
    "\n",
    "print(mensaje)"
   ]
  },
  {
   "cell_type": "markdown",
   "metadata": {},
   "source": [
    "<h2> Estructura de bucle condicional \"$while$\": </h2>\n",
    "\n",
    "La estructura $while$ realiza una instrucción de forma iterada \"$mientras$\" se cumpla o no una condición; hasta que el estado de la condición se cumpla con un $True$ o un $not\\:True$ según se defina al declarar la instrucción."
   ]
  },
  {
   "cell_type": "code",
   "execution_count": 7,
   "metadata": {},
   "outputs": [
    {
     "name": "stdout",
     "output_type": "stream",
     "text": [
      "Iteración 1\n",
      "Iteración 2\n",
      "Iteración 3\n",
      "Iteración 4\n",
      "Iteración 5\n",
      "Iteración 6\n"
     ]
    }
   ],
   "source": [
    "num = 0   # Se define una variable inicial\n",
    "while num <= 5:               # Hasta que se cumpla la instrucción declarada se realizan las siguientes instrucciones:\n",
    "    num += 1                  # se realiza la acción \"sumar uno a la variable\"...\n",
    "    print('Iteración', num)   # y se printa el nuevo valor de la variable..."
   ]
  },
  {
   "cell_type": "code",
   "execution_count": 17,
   "metadata": {},
   "outputs": [
    {
     "name": "stdout",
     "output_type": "stream",
     "text": [
      "1\n",
      "2\n",
      "3\n",
      "4\n",
      "5\n",
      "6\n",
      "7\n",
      "8\n",
      "9\n",
      "10\n"
     ]
    }
   ],
   "source": [
    "lista = [1,2,3,4,5,6,7,8,9,10] # Definimos una lista con diez elementos (no son números, son str)\n",
    "indice = 0                     # Inicializamos una variable en \"0\"\n",
    "\n",
    "while indice < len(lista):    # Mientras el valor numérico de \"indice\" sea menor al número de elementos de \"lista\"...\n",
    "    print(lista[indice])      # printar cada elemento de la lista\n",
    "    indice += 1               # sumar 1 a la variable \"indice\""
   ]
  },
  {
   "cell_type": "code",
   "execution_count": 8,
   "metadata": {
    "scrolled": true
   },
   "outputs": [
    {
     "name": "stdout",
     "output_type": "stream",
     "text": [
      "nuevo num\n",
      "[[5 5]\n",
      " [5 5]]\n",
      "equilbrio\n",
      "[0 0]\n"
     ]
    }
   ],
   "source": [
    "#---------------------- Ciclo \"while\" con una variable tipo \"array\"\n",
    "\n",
    "import numpy as np             # Importamos el paquete \"numpy\" (paquete de matemáticas) como \"np\"\n",
    "num = np.array([[0,0],[5,5]])  # Asignamos un array 2x2 a la variable \"num\"\n",
    "\n",
    "while np.all(num[0] != num[1]):      # Mientras los vectores de \"num\" sean diferentes se realizan las instrucciones...\n",
    "    num[0] += 1                      # Sumar 1 a los valores del primer vector del array \"num\"\n",
    "    \n",
    "    equi = []                        # Ciclo \"for\" dentro de la estructura \"while\"\n",
    "    for i, j in zip(num[0], num[1]):\n",
    "        eq = abs(i - j)\n",
    "        equi.append(eq)\n",
    "    equilibrio = np.array([equi[0], equi[1]]) # Definimos la variable \"equilibrio\" como resultado del \"for\"\n",
    "\n",
    "else:    # Hasta que la condición inicial resulte \"false\" se realizan las sig instrucciones\n",
    "    print('nuevo num')\n",
    "    print(num)\n",
    "    print('equilbrio')\n",
    "    print(equilibrio)"
   ]
  },
  {
   "cell_type": "code",
   "execution_count": 9,
   "metadata": {},
   "outputs": [
    {
     "name": "stdout",
     "output_type": "stream",
     "text": [
      "----------\n",
      "nuevo num\n",
      "[[1 1]\n",
      " [5 5]]\n",
      "equilbrio\n",
      "[5 5]\n",
      "----------\n",
      "nuevo num\n",
      "[[2 2]\n",
      " [5 5]]\n",
      "equilbrio\n",
      "[5 5]\n",
      "----------\n",
      "nuevo num\n",
      "[[3 3]\n",
      " [5 5]]\n",
      "equilbrio\n",
      "[5 5]\n",
      "----------\n",
      "nuevo num\n",
      "[[4 4]\n",
      " [5 5]]\n",
      "equilbrio\n",
      "[5 5]\n",
      "----------\n",
      "nuevo num\n",
      "[[5 5]\n",
      " [5 5]]\n",
      "equilbrio\n",
      "[5 5]\n"
     ]
    }
   ],
   "source": [
    "#------------------ Ciclo \"while\" con una variable tipo \"array\" y una función definida dentro del ciclo\n",
    "\n",
    "import numpy as np\n",
    "num = np.array([[0,0],[5,5]])\n",
    "\n",
    "def equilibrio_quimico(num):      #se define la función \"equilibrio_quimico\" con el ciclo \"for\" del block anterior\n",
    "    equi = []                        \n",
    "    for i, j in zip(num[0], num[1]):\n",
    "        eq = abs(i - j)\n",
    "        equi.append(eq)\n",
    "    equilibrio = np.array([equi[0], equi[1]])\n",
    "    return equilibrio\n",
    "equilibrio = equilibrio_quimico(num)    # se asigna el resultado de la función a la variable \"equilibrio\"\n",
    "\n",
    "while np.all(num[0] != num[1]): # Mientras los vectores de \"num\" sean diferentes se realizan las instrucciones...\n",
    "    num[0] += 1                 # Sumar 1 a los valores del primer vector del array \"num\"  \n",
    "    equilibrio_quimico(num)     # Se ejecuta la función \"equilibrio_quimico\" con el nuevo valor de \"num\"\n",
    "    print('----------')\n",
    "    print('nuevo num')          # Se printan las siguientes cadenas y variables\n",
    "    print(num)\n",
    "    print('equilbrio')\n",
    "    print(equilibrio)\n",
    "    \n",
    "# La última ejecución resulta en \"false\" (los vectores de \"num\" son iguales) \n",
    "# hasta ese momento se deja de cumplir la condición y termina el ciclo \"while\""
   ]
  },
  {
   "cell_type": "code",
   "execution_count": 1,
   "metadata": {},
   "outputs": [
    {
     "name": "stdout",
     "output_type": "stream",
     "text": [
      "Ingresa el número de que operación quieres realizar\n",
      "Escribe \"run\" para iniciar: run\n",
      "Ingresa el número de la operación que deseas realizar:\n",
      "    1 - Suma\n",
      "    2 - Resta\n",
      "    3 - Multiplicación\n",
      "    4 - División\n",
      "    5 - Salir\n",
      "2\n",
      "Ingrese el primer número: 10\n",
      "Ingrese el segundo número: 15\n",
      "El resultado de la resta es -5.0\n",
      "Si desea continuar calculando elija la opción que sesée, si no, ingrese 5\n",
      "Ingresa el número de la operación que deseas realizar:\n",
      "    1 - Suma\n",
      "    2 - Resta\n",
      "    3 - Multiplicación\n",
      "    4 - División\n",
      "    5 - Salir\n",
      "5\n",
      "Terminó la ejecución\n"
     ]
    }
   ],
   "source": [
    "#-------------------------- Usando \"if\", \"while\", \"else\", \"elif\" en un solo código\n",
    "\n",
    "print('Ingresa el número de que operación quieres realizar')\n",
    "inicio = input('Escribe \"run\" para iniciar: ')\n",
    "while (inicio == 'run'):\n",
    "    print(\"\"\"Ingresa el número de la operación que deseas realizar:\n",
    "    1 - Suma\n",
    "    2 - Resta\n",
    "    3 - Multiplicación\n",
    "    4 - División\n",
    "    5 - Salir\"\"\")\n",
    "    option = input()\n",
    "    if option == '1':\n",
    "        a = float(input('Ingrese el primer número: '))\n",
    "        b = float(input('Ingrese el segundo número: '))\n",
    "        print('El resultado de la suma es', a + b)\n",
    "        print('Si desea continuar calculando elija la opción que sesée, si no, ingrese 5')\n",
    "    elif option == '2':\n",
    "        a = float(input('Ingrese el primer número: '))\n",
    "        b = float(input('Ingrese el segundo número: '))\n",
    "        print('El resultado de la resta es', a - b)\n",
    "        print('Si desea continuar calculando elija la opción que sesée, si no, ingrese 5')\n",
    "    elif option == '3':\n",
    "        a = float(input('Ingrese el primer número: '))\n",
    "        b = float(input('Ingrese el segundo número: '))\n",
    "        print('El resultado de la multiplicación es', a * b)\n",
    "        print('Si desea continuar calculando elija la opción que sesée, si no, ingrese 5')\n",
    "    elif option == '4':\n",
    "        a = float(input('Ingrese el primer número: '))\n",
    "        b = float(input('Ingrese el segundo número: '))\n",
    "        print('El resultado de la división es', a / b)\n",
    "        print('Si desea continuar calculando elija la opción que sesée, si no, ingrese 5')\n",
    "    else:\n",
    "        print('Terminó la ejecución')\n",
    "        break"
   ]
  },
  {
   "cell_type": "markdown",
   "metadata": {},
   "source": [
    "<h2> Estructura repetitiva \"$for$\": </h2>\n",
    "\n",
    "El ciclo $for$ es una estructura que ejecuta una o varias instrucciones de forma iterada. Las instrucciones del ciclo $for$ se iteran un número determinado de veces, que puede estar definido por el número de elementos dentro de una lista, dentro de un array, etc. \n",
    "\n",
    "El ciclo termina cuando no hay elemento sobre el cual iterar."
   ]
  },
  {
   "cell_type": "code",
   "execution_count": 18,
   "metadata": {},
   "outputs": [
    {
     "name": "stdout",
     "output_type": "stream",
     "text": [
      "R\n",
      "a\n",
      "f\n",
      "a\n",
      "e\n",
      "l\n"
     ]
    }
   ],
   "source": [
    "nombre = 'Rafael'      # Se define una variable, en este caso de tipo \"str\"\n",
    "for letra in nombre:   # Por cada elemento de la variable \"nombre\" realiza lo sig...\n",
    "    print(letra)       # printa cada elemento de la variable \"nombre\""
   ]
  },
  {
   "cell_type": "code",
   "execution_count": 32,
   "metadata": {},
   "outputs": [
    {
     "name": "stdout",
     "output_type": "stream",
     "text": [
      "[[  1   2   3   4   5   6   7   8   9  10]\n",
      " [  2   4   6   8  10  12  14  16  18  20]\n",
      " [  3   6   9  12  15  18  21  24  27  30]\n",
      " [  4   8  12  16  20  24  28  32  36  40]\n",
      " [  5  10  15  20  25  30  35  40  45  50]\n",
      " [  6  12  18  24  30  36  42  48  54  60]\n",
      " [  7  14  21  28  35  42  49  56  63  70]\n",
      " [  8  16  24  32  40  48  56  64  72  80]\n",
      " [  9  18  27  36  45  54  63  72  81  90]\n",
      " [ 10  20  30  40  50  60  70  80  90 100]]\n"
     ]
    }
   ],
   "source": [
    "# Series de tablas de multiplicar con ciclo \"for\"\n",
    "\n",
    "import numpy as np\n",
    "a = np.array(range(1,11)) # se define array \"a\" de longitud 11 elementos\n",
    "b = np.array(range(1,11)) # se define array \"b\" de longitud 11 elementos\n",
    "\n",
    "c = []         # se define una lista \"c\" vacía\n",
    "for i in a:    # para cada elemento del array \"a\"\n",
    "    multiplicación = i * b    # se multiplica por el array \"b\"\n",
    "    c.append(multiplicación)  # los valores de \"multiplicación\" se guardan en \"c\"\n",
    "    array_c = np.array(c)     # array con los valores de \"multiplicación\"\n",
    "matriz_multiplicación = np.array(array_c)  # se guardan en una variable array de arrays \"multiplicación\"\n",
    "print(matriz_multiplicación)"
   ]
  },
  {
   "cell_type": "code",
   "execution_count": 34,
   "metadata": {},
   "outputs": [
    {
     "name": "stdout",
     "output_type": "stream",
     "text": [
      "1\n",
      "2\n",
      "3\n",
      "4\n",
      "5\n",
      "6\n",
      "7\n",
      "8\n",
      "9\n",
      "10\n"
     ]
    }
   ],
   "source": [
    "lista = np.array(range(1,11))\n",
    "for i in lista:\n",
    "    print(i)         "
   ]
  },
  {
   "cell_type": "code",
   "execution_count": 35,
   "metadata": {},
   "outputs": [
    {
     "name": "stdout",
     "output_type": "stream",
     "text": [
      "[10, 2, 3, 4, 5, 6, 7, 8, 9, 10]\n",
      "[10, 20, 3, 4, 5, 6, 7, 8, 9, 10]\n",
      "[10, 20, 30, 4, 5, 6, 7, 8, 9, 10]\n",
      "[10, 20, 30, 40, 5, 6, 7, 8, 9, 10]\n",
      "[10, 20, 30, 40, 50, 6, 7, 8, 9, 10]\n",
      "[10, 20, 30, 40, 50, 60, 7, 8, 9, 10]\n",
      "[10, 20, 30, 40, 50, 60, 70, 8, 9, 10]\n",
      "[10, 20, 30, 40, 50, 60, 70, 80, 9, 10]\n",
      "[10, 20, 30, 40, 50, 60, 70, 80, 90, 10]\n",
      "[10, 20, 30, 40, 50, 60, 70, 80, 90, 100]\n"
     ]
    }
   ],
   "source": [
    "lista = [1,2,3,4,5,6,7,8,9,10]\n",
    "ind = 0\n",
    "\n",
    "for rec in lista:\n",
    "    lista[ind] *= 10\n",
    "    ind += 1\n",
    "    print(lista)               #si meto el print dentro del for pasa esto"
   ]
  },
  {
   "cell_type": "code",
   "execution_count": 5,
   "metadata": {},
   "outputs": [
    {
     "name": "stdout",
     "output_type": "stream",
     "text": [
      "0\n",
      "1\n",
      "2\n",
      "3\n",
      "4\n",
      "5\n",
      "6\n",
      "7\n",
      "8\n",
      "9\n",
      "10\n",
      "11\n",
      "12\n",
      "13\n",
      "14\n",
      "15\n",
      "16\n",
      "17\n",
      "18\n",
      "19\n"
     ]
    }
   ],
   "source": [
    "for i in range(20):\n",
    "    print(i)"
   ]
  }
 ],
 "metadata": {
  "kernelspec": {
   "display_name": "Python 3",
   "language": "python",
   "name": "python3"
  },
  "language_info": {
   "codemirror_mode": {
    "name": "ipython",
    "version": 3
   },
   "file_extension": ".py",
   "mimetype": "text/x-python",
   "name": "python",
   "nbconvert_exporter": "python",
   "pygments_lexer": "ipython3",
   "version": "3.7.3"
  }
 },
 "nbformat": 4,
 "nbformat_minor": 2
}
